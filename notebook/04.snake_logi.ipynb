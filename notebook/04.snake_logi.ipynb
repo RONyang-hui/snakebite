{
 "cells": [
  {
   "cell_type": "code",
   "execution_count": 2,
   "metadata": {
    "vscode": {
     "languageId": "r"
    }
   },
   "outputs": [
    {
     "name": "stderr",
     "output_type": "stream",
     "text": [
      "Loading required package: nortest\n",
      "\n",
      "Warning message:\n",
      "\"package 'RPostgreSQL' was built under R version 4.3.3\"\n",
      "Loading required package: DBI\n",
      "\n",
      "Warning message:\n",
      "\"package 'twang' was built under R version 4.3.3\"\n",
      "Warning message in .recacheSubclasses(def@className, def, env):\n",
      "\"undefined subclass \"ndiMatrix\" of class \"replValueSp\"; definition not updated\"\n",
      "To reproduce results from prior versions of the twang package, please see the version=\"legacy\" option described in the documentation.\n",
      "\n",
      "Warning message:\n",
      "\"package 'Matching' was built under R version 4.3.3\"\n",
      "Loading required package: MASS\n",
      "\n",
      "## \n",
      "##  Matching (Version 4.10-14, Build Date: 2023-09-13)\n",
      "##  See https://www.jsekhon.com for additional documentation.\n",
      "##  Please cite software as:\n",
      "##   Jasjeet S. Sekhon. 2011. ``Multivariate and Propensity Score Matching\n",
      "##   Software with Automated Balance Optimization: The Matching package for R.''\n",
      "##   Journal of Statistical Software, 42(7): 1-52. \n",
      "##\n",
      "\n",
      "\n",
      "Warning message:\n",
      "\"package 'tidyverse' was built under R version 4.3.3\"\n",
      "Warning message:\n",
      "\"package 'readr' was built under R version 4.3.3\"\n",
      "Warning message:\n",
      "\"package 'forcats' was built under R version 4.3.3\"\n",
      "Warning message:\n",
      "\"package 'lubridate' was built under R version 4.3.3\"\n",
      "── \u001b[1mAttaching core tidyverse packages\u001b[22m ──────────────────────── tidyverse 2.0.0 ──\n",
      "\u001b[32m✔\u001b[39m \u001b[34mdplyr    \u001b[39m 1.1.4     \u001b[32m✔\u001b[39m \u001b[34mreadr    \u001b[39m 2.1.5\n",
      "\u001b[32m✔\u001b[39m \u001b[34mforcats  \u001b[39m 1.0.0     \u001b[32m✔\u001b[39m \u001b[34mstringr  \u001b[39m 1.5.1\n",
      "\u001b[32m✔\u001b[39m \u001b[34mggplot2  \u001b[39m 3.4.4     \u001b[32m✔\u001b[39m \u001b[34mtibble   \u001b[39m 3.2.1\n",
      "\u001b[32m✔\u001b[39m \u001b[34mlubridate\u001b[39m 1.9.3     \u001b[32m✔\u001b[39m \u001b[34mtidyr    \u001b[39m 1.3.1\n",
      "\u001b[32m✔\u001b[39m \u001b[34mpurrr    \u001b[39m 1.0.2     \n",
      "── \u001b[1mConflicts\u001b[22m ────────────────────────────────────────── tidyverse_conflicts() ──\n",
      "\u001b[31m✖\u001b[39m \u001b[34mdplyr\u001b[39m::\u001b[32mfilter()\u001b[39m masks \u001b[34mstats\u001b[39m::filter()\n",
      "\u001b[31m✖\u001b[39m \u001b[34mdplyr\u001b[39m::\u001b[32mlag()\u001b[39m    masks \u001b[34mstats\u001b[39m::lag()\n",
      "\u001b[31m✖\u001b[39m \u001b[34mdplyr\u001b[39m::\u001b[32mselect()\u001b[39m masks \u001b[34mMASS\u001b[39m::select()\n",
      "\u001b[36mℹ\u001b[39m Use the conflicted package (\u001b[3m\u001b[34m<http://conflicted.r-lib.org/>\u001b[39m\u001b[23m) to force all conflicts to become errors\n",
      "Warning message:\n",
      "\"package 'readxl' was built under R version 4.3.3\"\n",
      "Warning message:\n",
      "\"package 'tableone' was built under R version 4.3.3\"\n"
     ]
    }
   ],
   "source": [
    "library(CBCgrps)\n",
    "library(nortest)\n",
    "library(RPostgreSQL)\n",
    "library(twang)\n",
    "library(Matching)\n",
    "library(tidyverse)\n",
    "library(ggplot2)\n",
    "library(readxl)\n",
    "library(tableone)"
   ]
  },
  {
   "cell_type": "code",
   "execution_count": 1,
   "metadata": {
    "vscode": {
     "languageId": "r"
    }
   },
   "outputs": [],
   "source": [
    "data_dir <- file.path(\"..\", \"data\")"
   ]
  },
  {
   "cell_type": "code",
   "execution_count": 3,
   "metadata": {
    "vscode": {
     "languageId": "r"
    }
   },
   "outputs": [],
   "source": [
    "data <- read_excel(file.path(data_dir, \"baseline.xlsx\"))"
   ]
  },
  {
   "cell_type": "markdown",
   "metadata": {},
   "source": [
    "## 以下是对subgroup2的统计，是住院中的下降值"
   ]
  },
  {
   "cell_type": "code",
   "execution_count": 5,
   "metadata": {
    "vscode": {
     "languageId": "r"
    }
   },
   "outputs": [],
   "source": [
    "subgroup2 <- as.data.frame(readxl::read_excel(file.path(data_dir, \"subgroup2.xlsx\")))\n",
    "\n"
   ]
  },
  {
   "cell_type": "code",
   "execution_count": 6,
   "metadata": {
    "vscode": {
     "languageId": "r"
    }
   },
   "outputs": [],
   "source": [
    "model <- lm(TCM ~ PT + APTT + Accumulatedose +\n",
    "       fib + DD + PLT + CK + CKMB, data = subgroup2)\n"
   ]
  },
  {
   "cell_type": "code",
   "execution_count": 8,
   "metadata": {
    "vscode": {
     "languageId": "r"
    }
   },
   "outputs": [],
   "source": [
    "coef_table <- summary(model)$coefficients\n",
    "coef_table <- as.data.frame(coef_table)"
   ]
  },
  {
   "cell_type": "code",
   "execution_count": 9,
   "metadata": {
    "vscode": {
     "languageId": "r"
    }
   },
   "outputs": [
    {
     "name": "stderr",
     "output_type": "stream",
     "text": [
      "Warning message:\n",
      "\"package 'broom' was built under R version 4.3.3\"\n"
     ]
    }
   ],
   "source": [
    "# 计算95%置信区间\n",
    "library(broom)\n",
    "ci <- tidy(model, conf.int = TRUE) "
   ]
  },
  {
   "cell_type": "code",
   "execution_count": 10,
   "metadata": {
    "vscode": {
     "languageId": "r"
    }
   },
   "outputs": [
    {
     "data": {
      "text/html": [
       "<table class=\"dataframe\">\n",
       "<caption>A data.frame: 9 × 5</caption>\n",
       "<thead>\n",
       "\t<tr><th scope=col>Variable</th><th scope=col>Estimate</th><th scope=col>Lower.CI</th><th scope=col>Upper.CI</th><th scope=col>P.value</th></tr>\n",
       "\t<tr><th scope=col>&lt;chr&gt;</th><th scope=col>&lt;dbl&gt;</th><th scope=col>&lt;dbl&gt;</th><th scope=col>&lt;dbl&gt;</th><th scope=col>&lt;dbl&gt;</th></tr>\n",
       "</thead>\n",
       "<tbody>\n",
       "\t<tr><td>(Intercept)   </td><td> 8.388749e-01</td><td> 7.600028e-01</td><td> 9.177471e-01</td><td>5.398212e-60</td></tr>\n",
       "\t<tr><td>PT            </td><td>-1.743563e-03</td><td>-4.080567e-03</td><td> 5.934415e-04</td><td>1.430832e-01</td></tr>\n",
       "\t<tr><td>APTT          </td><td>-9.390351e-04</td><td>-3.200690e-03</td><td> 1.322620e-03</td><td>4.144985e-01</td></tr>\n",
       "\t<tr><td>Accumulatedose</td><td>-4.332560e-04</td><td>-7.390188e-04</td><td>-1.274932e-04</td><td>5.639075e-03</td></tr>\n",
       "\t<tr><td>fib           </td><td>-1.965876e-02</td><td>-4.800693e-02</td><td> 8.689411e-03</td><td>1.733504e-01</td></tr>\n",
       "\t<tr><td>DD            </td><td> 7.828700e-04</td><td>-2.722475e-03</td><td> 4.288214e-03</td><td>6.605829e-01</td></tr>\n",
       "\t<tr><td>PLT           </td><td>-6.387762e-04</td><td>-1.694912e-03</td><td> 4.173602e-04</td><td>2.348660e-01</td></tr>\n",
       "\t<tr><td>CK            </td><td>-3.636689e-06</td><td>-5.327261e-05</td><td> 4.599923e-05</td><td>8.854416e-01</td></tr>\n",
       "\t<tr><td>CKMB          </td><td>-1.351085e-05</td><td>-5.003093e-04</td><td> 4.732877e-04</td><td>9.564747e-01</td></tr>\n",
       "</tbody>\n",
       "</table>\n"
      ],
      "text/latex": [
       "A data.frame: 9 × 5\n",
       "\\begin{tabular}{lllll}\n",
       " Variable & Estimate & Lower.CI & Upper.CI & P.value\\\\\n",
       " <chr> & <dbl> & <dbl> & <dbl> & <dbl>\\\\\n",
       "\\hline\n",
       "\t (Intercept)    &  8.388749e-01 &  7.600028e-01 &  9.177471e-01 & 5.398212e-60\\\\\n",
       "\t PT             & -1.743563e-03 & -4.080567e-03 &  5.934415e-04 & 1.430832e-01\\\\\n",
       "\t APTT           & -9.390351e-04 & -3.200690e-03 &  1.322620e-03 & 4.144985e-01\\\\\n",
       "\t Accumulatedose & -4.332560e-04 & -7.390188e-04 & -1.274932e-04 & 5.639075e-03\\\\\n",
       "\t fib            & -1.965876e-02 & -4.800693e-02 &  8.689411e-03 & 1.733504e-01\\\\\n",
       "\t DD             &  7.828700e-04 & -2.722475e-03 &  4.288214e-03 & 6.605829e-01\\\\\n",
       "\t PLT            & -6.387762e-04 & -1.694912e-03 &  4.173602e-04 & 2.348660e-01\\\\\n",
       "\t CK             & -3.636689e-06 & -5.327261e-05 &  4.599923e-05 & 8.854416e-01\\\\\n",
       "\t CKMB           & -1.351085e-05 & -5.003093e-04 &  4.732877e-04 & 9.564747e-01\\\\\n",
       "\\end{tabular}\n"
      ],
      "text/markdown": [
       "\n",
       "A data.frame: 9 × 5\n",
       "\n",
       "| Variable &lt;chr&gt; | Estimate &lt;dbl&gt; | Lower.CI &lt;dbl&gt; | Upper.CI &lt;dbl&gt; | P.value &lt;dbl&gt; |\n",
       "|---|---|---|---|---|\n",
       "| (Intercept)    |  8.388749e-01 |  7.600028e-01 |  9.177471e-01 | 5.398212e-60 |\n",
       "| PT             | -1.743563e-03 | -4.080567e-03 |  5.934415e-04 | 1.430832e-01 |\n",
       "| APTT           | -9.390351e-04 | -3.200690e-03 |  1.322620e-03 | 4.144985e-01 |\n",
       "| Accumulatedose | -4.332560e-04 | -7.390188e-04 | -1.274932e-04 | 5.639075e-03 |\n",
       "| fib            | -1.965876e-02 | -4.800693e-02 |  8.689411e-03 | 1.733504e-01 |\n",
       "| DD             |  7.828700e-04 | -2.722475e-03 |  4.288214e-03 | 6.605829e-01 |\n",
       "| PLT            | -6.387762e-04 | -1.694912e-03 |  4.173602e-04 | 2.348660e-01 |\n",
       "| CK             | -3.636689e-06 | -5.327261e-05 |  4.599923e-05 | 8.854416e-01 |\n",
       "| CKMB           | -1.351085e-05 | -5.003093e-04 |  4.732877e-04 | 9.564747e-01 |\n",
       "\n"
      ],
      "text/plain": [
       "  Variable       Estimate      Lower.CI      Upper.CI      P.value     \n",
       "1 (Intercept)     8.388749e-01  7.600028e-01  9.177471e-01 5.398212e-60\n",
       "2 PT             -1.743563e-03 -4.080567e-03  5.934415e-04 1.430832e-01\n",
       "3 APTT           -9.390351e-04 -3.200690e-03  1.322620e-03 4.144985e-01\n",
       "4 Accumulatedose -4.332560e-04 -7.390188e-04 -1.274932e-04 5.639075e-03\n",
       "5 fib            -1.965876e-02 -4.800693e-02  8.689411e-03 1.733504e-01\n",
       "6 DD              7.828700e-04 -2.722475e-03  4.288214e-03 6.605829e-01\n",
       "7 PLT            -6.387762e-04 -1.694912e-03  4.173602e-04 2.348660e-01\n",
       "8 CK             -3.636689e-06 -5.327261e-05  4.599923e-05 8.854416e-01\n",
       "9 CKMB           -1.351085e-05 -5.003093e-04  4.732877e-04 9.564747e-01"
      ]
     },
     "metadata": {},
     "output_type": "display_data"
    }
   ],
   "source": [
    "forest_data <- data.frame(\n",
    "  Variable = rownames(coef_table),\n",
    "  Estimate = coef_table[, \"Estimate\"],\n",
    "  `Lower CI` = ci$conf.low,\n",
    "  `Upper CI` = ci$conf.high,\n",
    "  `P-value` = coef_table[, \"Pr(>|t|)\"]\n",
    ")\n",
    "\n",
    "forest_data"
   ]
  },
  {
   "cell_type": "markdown",
   "metadata": {},
   "source": [
    "## 以下是对phase2的统计，是住院中的描述性分析"
   ]
  },
  {
   "cell_type": "code",
   "execution_count": 11,
   "metadata": {
    "vscode": {
     "languageId": "r"
    }
   },
   "outputs": [],
   "source": [
    "phase2 <- as.data.frame(readxl::read_excel(file.path(data_dir, \"phase2.xlsx\")))\n"
   ]
  },
  {
   "cell_type": "code",
   "execution_count": 12,
   "metadata": {
    "vscode": {
     "languageId": "r"
    }
   },
   "outputs": [],
   "source": [
    "model <- lm(TCM ~ PT + APTT + Accumulatedose +\n",
    "       fib + DD + PLT + CK + CKMB, data = phase2)\n"
   ]
  },
  {
   "cell_type": "code",
   "execution_count": 13,
   "metadata": {
    "vscode": {
     "languageId": "r"
    }
   },
   "outputs": [],
   "source": [
    "coef_table <- summary(model)$coefficients\n",
    "coef_table <- as.data.frame(coef_table)"
   ]
  },
  {
   "cell_type": "code",
   "execution_count": 14,
   "metadata": {
    "vscode": {
     "languageId": "r"
    }
   },
   "outputs": [],
   "source": [
    "# 计算95%置信区间\n",
    "library(broom)\n",
    "ci <- tidy(model, conf.int = TRUE) "
   ]
  },
  {
   "cell_type": "code",
   "execution_count": 15,
   "metadata": {
    "vscode": {
     "languageId": "r"
    }
   },
   "outputs": [
    {
     "name": "stdout",
     "output_type": "stream",
     "text": [
      "'data.frame':\t300 obs. of  22 variables:\n",
      " $ serum         : num  1 2 1 1 2 2 1 1 0 3 ...\n",
      " $ TCM           : num  1 1 1 1 1 1 0 1 1 1 ...\n",
      " $ hight         : num  1.55 1.68 1.55 1.72 1.58 1.55 1.73 1.75 1.58 1.73 ...\n",
      " $ IBM           : num  22.5 30.1 25.8 25.4 28 ...\n",
      " $ ALT           : num  13 25 17 12 38 29 260 28 14 11 ...\n",
      " $ AST           : num  16 20 75 14 68 25 78 19 16 17 ...\n",
      " $ AST1          : num  100 31 19 72 84 21 25 31 40 18 ...\n",
      " $ AKI           : num  0 0 1 0 1 0 1 0 0 0 ...\n",
      " $ complication  : num  0 0 1 1 2 1 1 0 1 0 ...\n",
      " $ GCs           : num  2 2 2 2 1 1 2 2 1 1 ...\n",
      " $ Accumulatedose: num  420 420 360 420 50 360 480 240 135 60 ...\n",
      " $ dose          : num  60 60 60 60 10 60 60 60 15 15 ...\n",
      " $ doseday       : num  7 7 6 7 5 6 8 4 9 4 ...\n",
      " $ los_hos       : num  8 7 6 7 6 6 8 4 9 4 ...\n",
      " $ PT            : num  10.8 12.1 10.1 10.3 10.4 10.5 10.1 10.2 10 11.1 ...\n",
      " $ APTT          : num  24.9 28 23.8 23.4 20.9 21.7 22.2 22 23.7 31.1 ...\n",
      " $ fib           : num  3.18 2.9 1.13 2.31 1.75 3.52 1.97 2.58 2.28 1.52 ...\n",
      " $ DD            : num  0.74 0.29 1.76 1.69 0.29 0.62 0.73 0.4 2.23 0.97 ...\n",
      " $ PLT           : num  210 137 211 203 128 112 203 126 150 99 ...\n",
      " $ CK            : num  101 52 29 44 46 44 38 54 72 15.2 ...\n",
      " $ CKMB          : num  19 17.8 10.9 10.6 12.7 17.8 9.3 10.6 18.1 11.8 ...\n",
      " $ Tn            : num  0 0 0 0 0 0 0 0 0 0 ...\n"
     ]
    }
   ],
   "source": [
    "str(phase2)"
   ]
  },
  {
   "cell_type": "code",
   "execution_count": 16,
   "metadata": {
    "vscode": {
     "languageId": "r"
    }
   },
   "outputs": [
    {
     "data": {
      "text/html": [
       "<table class=\"dataframe\">\n",
       "<caption>A data.frame: 9 × 5</caption>\n",
       "<thead>\n",
       "\t<tr><th scope=col>Variable</th><th scope=col>Estimate</th><th scope=col>Lower.CI</th><th scope=col>Upper.CI</th><th scope=col>P.value</th></tr>\n",
       "\t<tr><th scope=col>&lt;chr&gt;</th><th scope=col>&lt;dbl&gt;</th><th scope=col>&lt;dbl&gt;</th><th scope=col>&lt;dbl&gt;</th><th scope=col>&lt;dbl&gt;</th></tr>\n",
       "</thead>\n",
       "<tbody>\n",
       "\t<tr><td>(Intercept)   </td><td> 0.7259843316</td><td> 0.275805562</td><td> 1.176163e+00</td><td>0.001664897</td></tr>\n",
       "\t<tr><td>PT            </td><td> 0.0018140367</td><td>-0.004109262</td><td> 7.737335e-03</td><td>0.547141398</td></tr>\n",
       "\t<tr><td>APTT          </td><td> 0.0044586338</td><td>-0.012725866</td><td> 2.164313e-02</td><td>0.609983581</td></tr>\n",
       "\t<tr><td>Accumulatedose</td><td>-0.0003730467</td><td>-0.000681500</td><td>-6.459349e-05</td><td>0.017942378</td></tr>\n",
       "\t<tr><td>fib           </td><td> 0.0159990790</td><td>-0.036901172</td><td> 6.889933e-02</td><td>0.552142692</td></tr>\n",
       "\t<tr><td>DD            </td><td>-0.0252485660</td><td>-0.067036841</td><td> 1.653971e-02</td><td>0.235346048</td></tr>\n",
       "\t<tr><td>PLT           </td><td>-0.0002154980</td><td>-0.000938389</td><td> 5.073930e-04</td><td>0.557848734</td></tr>\n",
       "\t<tr><td>CK            </td><td>-0.0006381790</td><td>-0.001272109</td><td>-4.248579e-06</td><td>0.048494163</td></tr>\n",
       "\t<tr><td>CKMB          </td><td> 0.0039190216</td><td>-0.001208258</td><td> 9.046301e-03</td><td>0.133575921</td></tr>\n",
       "</tbody>\n",
       "</table>\n"
      ],
      "text/latex": [
       "A data.frame: 9 × 5\n",
       "\\begin{tabular}{lllll}\n",
       " Variable & Estimate & Lower.CI & Upper.CI & P.value\\\\\n",
       " <chr> & <dbl> & <dbl> & <dbl> & <dbl>\\\\\n",
       "\\hline\n",
       "\t (Intercept)    &  0.7259843316 &  0.275805562 &  1.176163e+00 & 0.001664897\\\\\n",
       "\t PT             &  0.0018140367 & -0.004109262 &  7.737335e-03 & 0.547141398\\\\\n",
       "\t APTT           &  0.0044586338 & -0.012725866 &  2.164313e-02 & 0.609983581\\\\\n",
       "\t Accumulatedose & -0.0003730467 & -0.000681500 & -6.459349e-05 & 0.017942378\\\\\n",
       "\t fib            &  0.0159990790 & -0.036901172 &  6.889933e-02 & 0.552142692\\\\\n",
       "\t DD             & -0.0252485660 & -0.067036841 &  1.653971e-02 & 0.235346048\\\\\n",
       "\t PLT            & -0.0002154980 & -0.000938389 &  5.073930e-04 & 0.557848734\\\\\n",
       "\t CK             & -0.0006381790 & -0.001272109 & -4.248579e-06 & 0.048494163\\\\\n",
       "\t CKMB           &  0.0039190216 & -0.001208258 &  9.046301e-03 & 0.133575921\\\\\n",
       "\\end{tabular}\n"
      ],
      "text/markdown": [
       "\n",
       "A data.frame: 9 × 5\n",
       "\n",
       "| Variable &lt;chr&gt; | Estimate &lt;dbl&gt; | Lower.CI &lt;dbl&gt; | Upper.CI &lt;dbl&gt; | P.value &lt;dbl&gt; |\n",
       "|---|---|---|---|---|\n",
       "| (Intercept)    |  0.7259843316 |  0.275805562 |  1.176163e+00 | 0.001664897 |\n",
       "| PT             |  0.0018140367 | -0.004109262 |  7.737335e-03 | 0.547141398 |\n",
       "| APTT           |  0.0044586338 | -0.012725866 |  2.164313e-02 | 0.609983581 |\n",
       "| Accumulatedose | -0.0003730467 | -0.000681500 | -6.459349e-05 | 0.017942378 |\n",
       "| fib            |  0.0159990790 | -0.036901172 |  6.889933e-02 | 0.552142692 |\n",
       "| DD             | -0.0252485660 | -0.067036841 |  1.653971e-02 | 0.235346048 |\n",
       "| PLT            | -0.0002154980 | -0.000938389 |  5.073930e-04 | 0.557848734 |\n",
       "| CK             | -0.0006381790 | -0.001272109 | -4.248579e-06 | 0.048494163 |\n",
       "| CKMB           |  0.0039190216 | -0.001208258 |  9.046301e-03 | 0.133575921 |\n",
       "\n"
      ],
      "text/plain": [
       "  Variable       Estimate      Lower.CI     Upper.CI      P.value    \n",
       "1 (Intercept)     0.7259843316  0.275805562  1.176163e+00 0.001664897\n",
       "2 PT              0.0018140367 -0.004109262  7.737335e-03 0.547141398\n",
       "3 APTT            0.0044586338 -0.012725866  2.164313e-02 0.609983581\n",
       "4 Accumulatedose -0.0003730467 -0.000681500 -6.459349e-05 0.017942378\n",
       "5 fib             0.0159990790 -0.036901172  6.889933e-02 0.552142692\n",
       "6 DD             -0.0252485660 -0.067036841  1.653971e-02 0.235346048\n",
       "7 PLT            -0.0002154980 -0.000938389  5.073930e-04 0.557848734\n",
       "8 CK             -0.0006381790 -0.001272109 -4.248579e-06 0.048494163\n",
       "9 CKMB            0.0039190216 -0.001208258  9.046301e-03 0.133575921"
      ]
     },
     "metadata": {},
     "output_type": "display_data"
    }
   ],
   "source": [
    "forest_data <- data.frame(\n",
    "  Variable = rownames(coef_table),\n",
    "  Estimate = coef_table[, \"Estimate\"],\n",
    "  `Lower CI` = ci$conf.low,\n",
    "  `Upper CI` = ci$conf.high,\n",
    "  `P-value` = coef_table[, \"Pr(>|t|)\"]\n",
    ")\n",
    "\n",
    "forest_data\n",
    "\n"
   ]
  },
  {
   "cell_type": "code",
   "execution_count": 18,
   "metadata": {
    "vscode": {
     "languageId": "r"
    }
   },
   "outputs": [],
   "source": [
    "subgroup3 <- as.data.frame(readxl::read_excel(file.path(data_dir, \"subgroup3.xlsx\")))"
   ]
  },
  {
   "cell_type": "code",
   "execution_count": 19,
   "metadata": {
    "vscode": {
     "languageId": "r"
    }
   },
   "outputs": [
    {
     "name": "stdout",
     "output_type": "stream",
     "text": [
      "'data.frame':\t300 obs. of  26 variables:\n",
      " $ stay_id       : num  1 2 3 4 5 6 7 8 9 10 ...\n",
      " $ serum         : num  1 2 1 1 2 2 1 1 0 3 ...\n",
      " $ TCM           : num  1 1 1 1 1 1 0 1 1 1 ...\n",
      " $ hight         : num  1.55 1.68 1.55 1.72 1.58 1.55 1.73 1.75 1.58 1.73 ...\n",
      " $ IBM           : num  22.5 30.1 25.8 25.4 28 ...\n",
      " $ ALT           : num  13 25 17 12 38 29 260 28 14 11 ...\n",
      " $ AST           : num  16 20 75 14 68 25 78 19 16 17 ...\n",
      " $ AST1          : num  100 31 19 72 84 21 25 31 40 18 ...\n",
      " $ AKI           : num  0 0 1 0 1 0 1 0 0 0 ...\n",
      " $ complication  : num  0 0 1 1 2 1 1 0 1 0 ...\n",
      " $ GCs           : num  2 2 2 2 1 1 2 2 1 1 ...\n",
      " $ Accumulatedose: num  420 420 360 420 50 360 480 240 135 60 ...\n",
      " $ dose          : num  60 60 60 60 10 60 60 60 15 15 ...\n",
      " $ doseday       : num  7 7 6 7 5 6 8 4 9 4 ...\n",
      " $ los_hos       : num  8 7 6 7 6 6 8 4 9 4 ...\n",
      " $ PT            : num  -0.9 1.3 -1.8 -0.5 -109.6 ...\n",
      " $ APTT          : num  0.3 2.5 0.8 0.7 -3.6 ...\n",
      " $ fib           : num  0.6 1.11 0.93 -0.17 1.55 ...\n",
      " $ DD            : num  -0.02 -0.77 -4.02 0.17 -8.93 -0.22 0.28 0.15 0.17 -3.51 ...\n",
      " $ PLT           : num  51 92 -2 81 66 58 -77 -36 7 12 ...\n",
      " $ CK            : num  -1008.5 20 8.3 -149 -43 ...\n",
      " $ CKMB          : num  -1078 -3.5 -174.1 -540.4 -16.3 ...\n",
      " $ Tn            : num  -0.01 0 0 0 -0.01 -0.2 -0.01 0 -1.45 -0.03 ...\n",
      " $ fib_flag      : num  1 1 1 0 1 1 0 0 0 1 ...\n",
      " $ gc_flag       : num  0 0 0 0 1 0 0 0 1 1 ...\n",
      " $ los_hos_flag  : num  0 0 0 0 0 0 0 1 0 1 ...\n"
     ]
    }
   ],
   "source": [
    "str(subgroup3)"
   ]
  },
  {
   "cell_type": "code",
   "execution_count": 20,
   "metadata": {
    "vscode": {
     "languageId": "r"
    }
   },
   "outputs": [],
   "source": [
    "# los_hos\n",
    "subgroup3$los_hos_group <- cut(subgroup3$los_hos, breaks = c(-Inf, 7, 9, Inf), \n",
    "                           labels = c(\"Short＜7\", \"Medium>=7, <9\", \"Long>=9\"))\n",
    "# 住院天数分组\n",
    "subgroup3$los_hos_group <- cut(subgroup3$los_hos, breaks = c(-Inf, 7, 9, Inf), \n",
    "                           labels = c(\"Low＜7\", \"Medium>=7, <9\", \"High>=9\"))\n",
    "\n",
    "# PT分组 \n",
    "subgroup3$PT_group <- cut(subgroup3$PT, breaks = c(-Inf, -0.8, -0.2, Inf), \n",
    "                         labels = c(\"Low＜-0.8\", \"Medium-0.8 to -0.2\", \"High＞-0.2\"))\n",
    "\n",
    "# APTT分组\n",
    "subgroup3$APTT_group <- cut(subgroup3$APTT, breaks = c(-Inf, -2.7, -0.5, Inf),\n",
    "                           labels = c(\"Low＜-2.7\", \"Medium-2.7 to -0.5\", \"High＞-0.5\"))\n",
    "\n",
    "# Fibrinogen分组\n",
    "subgroup3$fib_group <- cut(subgroup3$fib, breaks = c(-Inf, -0.12, 0.69, Inf),\n",
    "                          labels = c(\"Low＜-0.12\", \"Medium-0.12 to 0.69\", \"High＞0.69\"))\n",
    "\n",
    "# D-Dimer分组\n",
    "subgroup3$DD_group <- cut(subgroup3$DD, breaks = c(-Inf, 0.05, 0.59, Inf),\n",
    "                         labels = c(\"Low＜0.05\", \"Medium0.05 to 0.59\", \"High＞0.59\"))\n",
    "\n",
    "# 血小板分组\n",
    "subgroup3$PLT_group <- cut(subgroup3$PLT, breaks = c(-Inf, 10, 85, Inf),\n",
    "                          labels = c(\"Low＜10\", \"Medium10 to 85\", \"High＞85\"))\n",
    "\n",
    "# CK分组\n",
    "subgroup3$CK_group <- cut(subgroup3$CK, breaks = c(-Inf, -96, -26.5, Inf),\n",
    "                         labels = c(\"Low＜-96\", \"Medium-96 to -26.5\", \"High＞-26.5\"))\n",
    "\n",
    "# CK-MB分组 \n",
    "subgroup3$CK_MB_group <- cut(subgroup3$CKMB, breaks = c(-Inf, -7.5, -3.3, Inf),\n",
    "                            labels = c(\"Low＜-7.5\", \"Medium-7.5 to -3.3\", \"High＞-3.3\"))\n",
    "\n",
    "# 累计剂量分组\n",
    "subgroup3$Accumulatedose_group <- cut(subgroup3$Accumulatedose, breaks = c(-Inf, 60, 360, Inf),\n",
    "                                     labels = c(\"Low<60\", \"Medium 60 to 360\", \"High>360\"))"
   ]
  },
  {
   "cell_type": "code",
   "execution_count": 21,
   "metadata": {
    "vscode": {
     "languageId": "r"
    }
   },
   "outputs": [],
   "source": [
    " model <- glm(TCM ~ Accumulatedose_group + los_hos_group + PT_group + APTT_group + fib_group + DD_group + PLT_group + CK_group + CK_MB_group, data = subgroup3, family = \"binomial\")"
   ]
  },
  {
   "cell_type": "code",
   "execution_count": 23,
   "metadata": {
    "vscode": {
     "languageId": "r"
    }
   },
   "outputs": [
    {
     "name": "stderr",
     "output_type": "stream",
     "text": [
      "Warning message:\n",
      "\"package 'forestmodel' was built under R version 4.3.3\"\n"
     ]
    },
    {
     "name": "stderr",
     "output_type": "stream",
     "text": [
      "Warning message in recalculate_width_panels(panel_positions, mapped_text = mapped_text, :\n",
      "\"Unable to resize forest panel to be smaller than its heading; consider a smaller text size\"\n"
     ]
    },
    {
     "data": {
      "image/png": "[encoded data removed]",
      "text/plain": [
       "plot without title"
      ]
     },
     "metadata": {
      "image/png": {
       "height": 420,
       "width": 420
      }
     },
     "output_type": "display_data"
    }
   ],
   "source": [
    "library(forestmodel)\n",
    "forest_model(model)"
   ]
  },
  {
   "cell_type": "code",
   "execution_count": 24,
   "metadata": {
    "vscode": {
     "languageId": "r"
    }
   },
   "outputs": [
    {
     "data": {
      "text/plain": [
       "\n",
       "Call:\n",
       "glm(formula = TCM ~ Accumulatedose_group + los_hos_group + PT_group + \n",
       "    APTT_group + fib_group + DD_group + PLT_group + CK_group + \n",
       "    CK_MB_group, family = \"binomial\", data = subgroup3)\n",
       "\n",
       "Coefficients:\n",
       "                                     Estimate Std. Error z value Pr(>|z|)    \n",
       "(Intercept)                           3.16785    0.66578   4.758 1.95e-06 ***\n",
       "Accumulatedose_groupMedium 60 to 360 -0.74692    0.50570  -1.477   0.1397    \n",
       "Accumulatedose_groupHigh>360         -1.56545    0.61507  -2.545   0.0109 *  \n",
       "los_hos_groupMedium>=7, <9           -2.56483    0.44386  -5.778 7.54e-09 ***\n",
       "los_hos_groupHigh>=9                 -3.14337    0.70913  -4.433 9.31e-06 ***\n",
       "PT_groupMedium-0.8 to -0.2            0.23906    0.43432   0.550   0.5820    \n",
       "PT_groupHigh＞-0.2                   -0.13515    0.44540  -0.303   0.7616    \n",
       "APTT_groupMedium-2.7 to -0.5          0.25359    0.40221   0.630   0.5284    \n",
       "APTT_groupHigh＞-0.5                 -0.07871    0.49867  -0.158   0.8746    \n",
       "fib_groupMedium-0.12 to 0.69          0.08789    0.43991   0.200   0.8416    \n",
       "fib_groupHigh＞0.69                   1.21557    0.52533   2.314   0.0207 *  \n",
       "DD_groupMedium0.05 to 0.59           -0.92293    0.42359  -2.179   0.0293 *  \n",
       "DD_groupHigh＞0.59                   -0.16433    0.48980  -0.336   0.7372    \n",
       "PLT_groupMedium10 to 85               0.04594    0.38813   0.118   0.9058    \n",
       "PLT_groupHigh＞85                    -0.63204    0.51832  -1.219   0.2227    \n",
       "CK_groupMedium-96 to -26.5           -0.46934    0.43461  -1.080   0.2802    \n",
       "CK_groupHigh＞-26.5                  -0.65839    0.47869  -1.375   0.1690    \n",
       "CK_MB_groupMedium-7.5 to -3.3        -0.12172    0.46625  -0.261   0.7940    \n",
       "CK_MB_groupHigh＞-3.3                -0.03050    0.46602  -0.065   0.9478    \n",
       "---\n",
       "Signif. codes:  0 '***' 0.001 '**' 0.01 '*' 0.05 '.' 0.1 ' ' 1\n",
       "\n",
       "(Dispersion parameter for binomial family taken to be 1)\n",
       "\n",
       "    Null deviance: 332.94  on 299  degrees of freedom\n",
       "Residual deviance: 225.69  on 281  degrees of freedom\n",
       "AIC: 263.69\n",
       "\n",
       "Number of Fisher Scoring iterations: 5\n"
      ]
     },
     "metadata": {},
     "output_type": "display_data"
    }
   ],
   "source": [
    "summary(model)\n"
   ]
  }
 ],
 "metadata": {
  "kernelspec": {
   "display_name": "R",
   "language": "R",
   "name": "ir"
  },
  "language_info": {
   "codemirror_mode": "r",
   "file_extension": ".r",
   "mimetype": "text/x-r-source",
   "name": "R",
   "pygments_lexer": "r",
   "version": "4.3.2"
  }
 },
 "nbformat": 4,
 "nbformat_minor": 2
}
