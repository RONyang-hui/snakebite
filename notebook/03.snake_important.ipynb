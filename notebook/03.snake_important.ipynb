{
 "cells": [
  {
   "cell_type": "code",
   "execution_count": 1,
   "metadata": {
    "vscode": {
     "languageId": "r"
    }
   },
   "outputs": [
    {
     "name": "stderr",
     "output_type": "stream",
     "text": [
      "Loading required package: nortest\n",
      "\n",
      "Warning message:\n",
      "\"package 'RPostgreSQL' was built under R version 4.3.3\"\n",
      "Loading required package: DBI\n",
      "\n",
      "Warning message:\n",
      "\"package 'twang' was built under R version 4.3.3\"\n",
      "Warning message in .recacheSubclasses(def@className, def, env):\n",
      "\"undefined subclass \"ndiMatrix\" of class \"replValueSp\"; definition not updated\"\n",
      "To reproduce results from prior versions of the twang package, please see the version=\"legacy\" option described in the documentation.\n",
      "\n",
      "Warning message:\n",
      "\"package 'Matching' was built under R version 4.3.3\"\n",
      "Loading required package: MASS\n",
      "\n",
      "## \n",
      "##  Matching (Version 4.10-14, Build Date: 2023-09-13)\n",
      "##  See https://www.jsekhon.com for additional documentation.\n",
      "##  Please cite software as:\n",
      "##   Jasjeet S. Sekhon. 2011. ``Multivariate and Propensity Score Matching\n",
      "##   Software with Automated Balance Optimization: The Matching package for R.''\n",
      "##   Journal of Statistical Software, 42(7): 1-52. \n",
      "##\n",
      "\n",
      "\n",
      "Warning message:\n",
      "\"package 'tidyverse' was built under R version 4.3.3\"\n",
      "Warning message:\n",
      "\"package 'readr' was built under R version 4.3.3\"\n",
      "Warning message:\n",
      "\"package 'forcats' was built under R version 4.3.3\"\n",
      "Warning message:\n",
      "\"package 'lubridate' was built under R version 4.3.3\"\n",
      "── \u001b[1mAttaching core tidyverse packages\u001b[22m ──────────────────────── tidyverse 2.0.0 ──\n",
      "\u001b[32m✔\u001b[39m \u001b[34mdplyr    \u001b[39m 1.1.4     \u001b[32m✔\u001b[39m \u001b[34mreadr    \u001b[39m 2.1.5\n",
      "\u001b[32m✔\u001b[39m \u001b[34mforcats  \u001b[39m 1.0.0     \u001b[32m✔\u001b[39m \u001b[34mstringr  \u001b[39m 1.5.1\n",
      "\u001b[32m✔\u001b[39m \u001b[34mggplot2  \u001b[39m 3.4.4     \u001b[32m✔\u001b[39m \u001b[34mtibble   \u001b[39m 3.2.1\n",
      "\u001b[32m✔\u001b[39m \u001b[34mlubridate\u001b[39m 1.9.3     \u001b[32m✔\u001b[39m \u001b[34mtidyr    \u001b[39m 1.3.1\n",
      "\u001b[32m✔\u001b[39m \u001b[34mpurrr    \u001b[39m 1.0.2     \n",
      "── \u001b[1mConflicts\u001b[22m ────────────────────────────────────────── tidyverse_conflicts() ──\n",
      "\u001b[31m✖\u001b[39m \u001b[34mdplyr\u001b[39m::\u001b[32mfilter()\u001b[39m masks \u001b[34mstats\u001b[39m::filter()\n",
      "\u001b[31m✖\u001b[39m \u001b[34mdplyr\u001b[39m::\u001b[32mlag()\u001b[39m    masks \u001b[34mstats\u001b[39m::lag()\n",
      "\u001b[31m✖\u001b[39m \u001b[34mdplyr\u001b[39m::\u001b[32mselect()\u001b[39m masks \u001b[34mMASS\u001b[39m::select()\n",
      "\u001b[36mℹ\u001b[39m Use the conflicted package (\u001b[3m\u001b[34m<http://conflicted.r-lib.org/>\u001b[39m\u001b[23m) to force all conflicts to become errors\n",
      "Warning message:\n",
      "\"package 'readxl' was built under R version 4.3.3\"\n",
      "Warning message:\n",
      "\"package 'tableone' was built under R version 4.3.3\"\n"
     ]
    }
   ],
   "source": [
    "library(CBCgrps)\n",
    "library(nortest)\n",
    "library(RPostgreSQL)\n",
    "library(twang)\n",
    "library(Matching)\n",
    "library(tidyverse)\n",
    "library(ggplot2)\n",
    "library(readxl)\n",
    "library(tableone)"
   ]
  },
  {
   "cell_type": "code",
   "execution_count": 2,
   "metadata": {
    "vscode": {
     "languageId": "r"
    }
   },
   "outputs": [],
   "source": [
    "data_dir <- file.path(\"..\", \"data\")"
   ]
  },
  {
   "cell_type": "code",
   "execution_count": 3,
   "metadata": {
    "vscode": {
     "languageId": "r"
    }
   },
   "outputs": [],
   "source": [
    "data <- read_excel(file.path(data_dir, \"baseline.xlsx\"))"
   ]
  },
  {
   "cell_type": "markdown",
   "metadata": {},
   "source": [
    "## 以下是对baseline进行ps_match"
   ]
  },
  {
   "cell_type": "code",
   "execution_count": 4,
   "metadata": {
    "vscode": {
     "languageId": "r"
    }
   },
   "outputs": [],
   "source": [
    "baseline <- as.data.frame(data)"
   ]
  },
  {
   "cell_type": "code",
   "execution_count": 5,
   "metadata": {
    "vscode": {
     "languageId": "r"
    }
   },
   "outputs": [],
   "source": [
    "fml <- \"TCM ~ serum + IBM + \n",
    "      AKI + PT + APTT  + dose +\n",
    "       fib + DD + PLT + CK + CKMB + Tn\""
   ]
  },
  {
   "cell_type": "code",
   "execution_count": 9,
   "metadata": {
    "vscode": {
     "languageId": "r"
    }
   },
   "outputs": [],
   "source": [
    "echo_ps_ate <- ps(as.formula(fml),\n",
    "                  data = baseline,\n",
    "                  interaction.depth = 2,\n",
    "                  shrinkage = 0.01,\n",
    "                  perm.test.iters = 0,\n",
    "                  estimand = \"ATE\",\n",
    "                  verbose = FALSE,\n",
    "                  stop.method = c(\"es.mean\", \"es.max\", \"ks.mean\", \"ks.max\"),\n",
    "                  n.trees = 10000,\n",
    "                  train.fraction = 0.8,\n",
    "                  version = \"legacy\",\n",
    "                  cv.folds = 3,\n",
    "                  n.cores = 8)"
   ]
  },
  {
   "cell_type": "code",
   "execution_count": 10,
   "metadata": {
    "vscode": {
     "languageId": "r"
    }
   },
   "outputs": [
    {
     "data": {
      "text/html": [
       "<table class=\"dataframe\">\n",
       "<caption>A data.frame: 12 × 2</caption>\n",
       "<thead>\n",
       "\t<tr><th></th><th scope=col>var</th><th scope=col>rel.inf</th></tr>\n",
       "\t<tr><th></th><th scope=col>&lt;chr&gt;</th><th scope=col>&lt;dbl&gt;</th></tr>\n",
       "</thead>\n",
       "<tbody>\n",
       "\t<tr><th scope=row>PLT</th><td>PLT  </td><td>20.3795818</td></tr>\n",
       "\t<tr><th scope=row>CK</th><td>CK   </td><td>19.0834911</td></tr>\n",
       "\t<tr><th scope=row>APTT</th><td>APTT </td><td>13.8053641</td></tr>\n",
       "\t<tr><th scope=row>PT</th><td>PT   </td><td>11.8304843</td></tr>\n",
       "\t<tr><th scope=row>CKMB</th><td>CKMB </td><td>10.4612085</td></tr>\n",
       "\t<tr><th scope=row>IBM</th><td>IBM  </td><td> 8.0044056</td></tr>\n",
       "\t<tr><th scope=row>fib</th><td>fib  </td><td> 5.1998910</td></tr>\n",
       "\t<tr><th scope=row>DD</th><td>DD   </td><td> 4.1983960</td></tr>\n",
       "\t<tr><th scope=row>dose</th><td>dose </td><td> 2.6234186</td></tr>\n",
       "\t<tr><th scope=row>serum</th><td>serum</td><td> 2.0752180</td></tr>\n",
       "\t<tr><th scope=row>Tn</th><td>Tn   </td><td> 1.6780138</td></tr>\n",
       "\t<tr><th scope=row>AKI</th><td>AKI  </td><td> 0.6605271</td></tr>\n",
       "</tbody>\n",
       "</table>\n"
      ],
      "text/latex": [
       "A data.frame: 12 × 2\n",
       "\\begin{tabular}{r|ll}\n",
       "  & var & rel.inf\\\\\n",
       "  & <chr> & <dbl>\\\\\n",
       "\\hline\n",
       "\tPLT & PLT   & 20.3795818\\\\\n",
       "\tCK & CK    & 19.0834911\\\\\n",
       "\tAPTT & APTT  & 13.8053641\\\\\n",
       "\tPT & PT    & 11.8304843\\\\\n",
       "\tCKMB & CKMB  & 10.4612085\\\\\n",
       "\tIBM & IBM   &  8.0044056\\\\\n",
       "\tfib & fib   &  5.1998910\\\\\n",
       "\tDD & DD    &  4.1983960\\\\\n",
       "\tdose & dose  &  2.6234186\\\\\n",
       "\tserum & serum &  2.0752180\\\\\n",
       "\tTn & Tn    &  1.6780138\\\\\n",
       "\tAKI & AKI   &  0.6605271\\\\\n",
       "\\end{tabular}\n"
      ],
      "text/markdown": [
       "\n",
       "A data.frame: 12 × 2\n",
       "\n",
       "| <!--/--> | var &lt;chr&gt; | rel.inf &lt;dbl&gt; |\n",
       "|---|---|---|\n",
       "| PLT | PLT   | 20.3795818 |\n",
       "| CK | CK    | 19.0834911 |\n",
       "| APTT | APTT  | 13.8053641 |\n",
       "| PT | PT    | 11.8304843 |\n",
       "| CKMB | CKMB  | 10.4612085 |\n",
       "| IBM | IBM   |  8.0044056 |\n",
       "| fib | fib   |  5.1998910 |\n",
       "| DD | DD    |  4.1983960 |\n",
       "| dose | dose  |  2.6234186 |\n",
       "| serum | serum |  2.0752180 |\n",
       "| Tn | Tn    |  1.6780138 |\n",
       "| AKI | AKI   |  0.6605271 |\n",
       "\n"
      ],
      "text/plain": [
       "      var   rel.inf   \n",
       "PLT   PLT   20.3795818\n",
       "CK    CK    19.0834911\n",
       "APTT  APTT  13.8053641\n",
       "PT    PT    11.8304843\n",
       "CKMB  CKMB  10.4612085\n",
       "IBM   IBM    8.0044056\n",
       "fib   fib    5.1998910\n",
       "DD    DD     4.1983960\n",
       "dose  dose   2.6234186\n",
       "serum serum  2.0752180\n",
       "Tn    Tn     1.6780138\n",
       "AKI   AKI    0.6605271"
      ]
     },
     "metadata": {},
     "output_type": "display_data"
    }
   ],
   "source": [
    "ft_importance <- summary(echo_ps_ate$gbm.obj,\n",
    "                         n.trees = echo_ps_ate$desc$es.mean.ATE$n.trees,\n",
    "                         plot = FALSE)\n",
    "ft_importance "
   ]
  },
  {
   "cell_type": "code",
   "execution_count": 11,
   "metadata": {
    "vscode": {
     "languageId": "r"
    }
   },
   "outputs": [
    {
     "data": {
      "image/png": "[encoded data removed]",
      "text/plain": [
       "plot without title"
      ]
     },
     "metadata": {
      "image/png": {
       "height": 420,
       "width": 420
      }
     },
     "output_type": "display_data"
    }
   ],
   "source": [
    "colors <- c(\"#FF0000\", \"#00FF00\", \"#0000FF\", \"#FFFF00\", \"#00FFFF\", \"#FF00FF\", \"#800000\", \"#008000\", \"#000080\", \"#808000\", \"#800080\", \"#008080\", \"#C0C0C0\", \"#808080\")\n",
    "\n",
    "# 绘制特征重要性条形图\n",
    "ggplot(data = ft_importance, aes(x = reorder(var, rel.inf), y = rel.inf, fill = var)) +\n",
    "  geom_bar(stat = \"identity\", width = 0.6, color = \"black\") +\n",
    "  scale_fill_manual(values = colors) +\n",
    "  labs(x = \"Feature\", y = \"Importance\", title = \"Feature Importance\") +\n",
    "  theme_minimal() +\n",
    "  theme(\n",
    "    axis.text.x = element_text(angle = 45, hjust = 1),\n",
    "    legend.title = element_blank(),\n",
    "    legend.position = \"top\",\n",
    "    plot.title = element_text(hjust = 0.5, size = 16, face = \"bold\"),\n",
    "    axis.title = element_text(size = 12),\n",
    "    axis.text = element_text(size = 10),\n",
    "    legend.text = element_text(size = 10),\n",
    "    panel.grid.major.y = element_blank(),\n",
    "    panel.border = element_blank(),\n",
    "    panel.grid.major.x = element_line(color = \"lightgray\", linetype = \"dashed\"),\n",
    "    plot.margin = margin(10, 20, 10, 10)\n",
    "  )"
   ]
  },
  {
   "cell_type": "code",
   "execution_count": 6,
   "metadata": {
    "vscode": {
     "languageId": "r"
    }
   },
   "outputs": [],
   "source": [
    "subgroup2 <- as.data.frame(readxl::read_excel(file.path(data_dir, \"subgroup2.xlsx\")))"
   ]
  },
  {
   "cell_type": "code",
   "execution_count": 7,
   "metadata": {
    "vscode": {
     "languageId": "r"
    }
   },
   "outputs": [],
   "source": [
    "fml2 <- \"TCM ~ serum + IBM + \n",
    "      AKI + PT + APTT  +\n",
    "       fib + DD + PLT + CK + CKMB + Tn\""
   ]
  },
  {
   "cell_type": "code",
   "execution_count": 173,
   "metadata": {
    "vscode": {
     "languageId": "r"
    }
   },
   "outputs": [],
   "source": [
    "echo_ps_ate <- ps(as.formula(fml2),\n",
    "                  data = subgroup2,\n",
    "                  interaction.depth = 2,\n",
    "                  shrinkage = 0.01,\n",
    "                  perm.test.iters = 0,\n",
    "                  estimand = \"ATE\",\n",
    "                  verbose = FALSE,\n",
    "                  stop.method = c(\"es.mean\", \"es.max\", \"ks.mean\", \"ks.max\"),\n",
    "                  n.trees = 10000,\n",
    "                  train.fraction = 0.8,\n",
    "                  version = \"legacy\",\n",
    "                  cv.folds = 3,\n",
    "                  n.cores = 8)"
   ]
  },
  {
   "cell_type": "code",
   "execution_count": 174,
   "metadata": {
    "vscode": {
     "languageId": "r"
    }
   },
   "outputs": [],
   "source": [
    "ft_importance <- summary(echo_ps_ate$gbm.obj,\n",
    "                         n.trees = echo_ps_ate$desc$es.mean.ATE$n.trees,\n",
    "                         plot = FALSE)"
   ]
  },
  {
   "cell_type": "code",
   "execution_count": 175,
   "metadata": {
    "vscode": {
     "languageId": "r"
    }
   },
   "outputs": [
    {
     "data": {
      "text/html": [
       "<table class=\"dataframe\">\n",
       "<caption>A data.frame: 11 × 2</caption>\n",
       "<thead>\n",
       "\t<tr><th></th><th scope=col>var</th><th scope=col>rel.inf</th></tr>\n",
       "\t<tr><th></th><th scope=col>&lt;chr&gt;</th><th scope=col>&lt;dbl&gt;</th></tr>\n",
       "</thead>\n",
       "<tbody>\n",
       "\t<tr><th scope=row>CKMB</th><td>CKMB </td><td>20.019479</td></tr>\n",
       "\t<tr><th scope=row>CK</th><td>CK   </td><td>18.130670</td></tr>\n",
       "\t<tr><th scope=row>PT</th><td>PT   </td><td>16.064856</td></tr>\n",
       "\t<tr><th scope=row>APTT</th><td>APTT </td><td>12.974043</td></tr>\n",
       "\t<tr><th scope=row>fib</th><td>fib  </td><td> 7.788067</td></tr>\n",
       "\t<tr><th scope=row>DD</th><td>DD   </td><td> 7.431820</td></tr>\n",
       "\t<tr><th scope=row>PLT</th><td>PLT  </td><td> 7.424444</td></tr>\n",
       "\t<tr><th scope=row>IBM</th><td>IBM  </td><td> 5.754375</td></tr>\n",
       "\t<tr><th scope=row>AKI</th><td>AKI  </td><td> 2.353567</td></tr>\n",
       "\t<tr><th scope=row>Tn</th><td>Tn   </td><td> 1.331028</td></tr>\n",
       "\t<tr><th scope=row>serum</th><td>serum</td><td> 0.727651</td></tr>\n",
       "</tbody>\n",
       "</table>\n"
      ],
      "text/latex": [
       "A data.frame: 11 × 2\n",
       "\\begin{tabular}{r|ll}\n",
       "  & var & rel.inf\\\\\n",
       "  & <chr> & <dbl>\\\\\n",
       "\\hline\n",
       "\tCKMB & CKMB  & 20.019479\\\\\n",
       "\tCK & CK    & 18.130670\\\\\n",
       "\tPT & PT    & 16.064856\\\\\n",
       "\tAPTT & APTT  & 12.974043\\\\\n",
       "\tfib & fib   &  7.788067\\\\\n",
       "\tDD & DD    &  7.431820\\\\\n",
       "\tPLT & PLT   &  7.424444\\\\\n",
       "\tIBM & IBM   &  5.754375\\\\\n",
       "\tAKI & AKI   &  2.353567\\\\\n",
       "\tTn & Tn    &  1.331028\\\\\n",
       "\tserum & serum &  0.727651\\\\\n",
       "\\end{tabular}\n"
      ],
      "text/markdown": [
       "\n",
       "A data.frame: 11 × 2\n",
       "\n",
       "| <!--/--> | var &lt;chr&gt; | rel.inf &lt;dbl&gt; |\n",
       "|---|---|---|\n",
       "| CKMB | CKMB  | 20.019479 |\n",
       "| CK | CK    | 18.130670 |\n",
       "| PT | PT    | 16.064856 |\n",
       "| APTT | APTT  | 12.974043 |\n",
       "| fib | fib   |  7.788067 |\n",
       "| DD | DD    |  7.431820 |\n",
       "| PLT | PLT   |  7.424444 |\n",
       "| IBM | IBM   |  5.754375 |\n",
       "| AKI | AKI   |  2.353567 |\n",
       "| Tn | Tn    |  1.331028 |\n",
       "| serum | serum |  0.727651 |\n",
       "\n"
      ],
      "text/plain": [
       "      var   rel.inf  \n",
       "CKMB  CKMB  20.019479\n",
       "CK    CK    18.130670\n",
       "PT    PT    16.064856\n",
       "APTT  APTT  12.974043\n",
       "fib   fib    7.788067\n",
       "DD    DD     7.431820\n",
       "PLT   PLT    7.424444\n",
       "IBM   IBM    5.754375\n",
       "AKI   AKI    2.353567\n",
       "Tn    Tn     1.331028\n",
       "serum serum  0.727651"
      ]
     },
     "metadata": {},
     "output_type": "display_data"
    }
   ],
   "source": [
    "ft_importance "
   ]
  },
  {
   "cell_type": "code",
   "execution_count": 176,
   "metadata": {
    "vscode": {
     "languageId": "r"
    }
   },
   "outputs": [
    {
     "data": {
      "image/png": "[encoded data removed]",
      "text/plain": [
       "plot without title"
      ]
     },
     "metadata": {
      "image/png": {
       "height": 420,
       "width": 420
      }
     },
     "output_type": "display_data"
    }
   ],
   "source": [
    "colors <- c(\"#FF0000\", \"#00FF00\", \"#0000FF\", \"#FFFF00\", \"#00FFFF\", \"#FF00FF\", \"#800000\", \"#008000\", \"#000080\", \"#808000\", \"#800080\", \"#008080\", \"#C0C0C0\", \"#808080\")\n",
    "\n",
    "# 绘制特征重要性条形图\n",
    "ggplot(data = ft_importance, aes(x = reorder(var, rel.inf), y = rel.inf, fill = var)) +\n",
    "  geom_bar(stat = \"identity\", width = 0.6, color = \"black\") +\n",
    "  scale_fill_manual(values = colors) +\n",
    "  labs(x = \"Feature\", y = \"Importance\", title = \"Feature Importance\") +\n",
    "  theme_minimal() +\n",
    "  theme(\n",
    "    axis.text.x = element_text(angle = 45, hjust = 1),\n",
    "    legend.title = element_blank(),\n",
    "    legend.position = \"top\",\n",
    "    plot.title = element_text(hjust = 0.5, size = 16, face = \"bold\"),\n",
    "    axis.title = element_text(size = 12),\n",
    "    axis.text = element_text(size = 10),\n",
    "    legend.text = element_text(size = 10),\n",
    "    panel.grid.major.y = element_blank(),\n",
    "    panel.border = element_blank(),\n",
    "    panel.grid.major.x = element_line(color = \"lightgray\", linetype = \"dashed\"),\n",
    "    plot.margin = margin(10, 20, 10, 10)\n",
    "  )"
   ]
  },
  {
   "cell_type": "markdown",
   "metadata": {},
   "source": [
    "## 以下是第三次fiff的ps"
   ]
  },
  {
   "cell_type": "code",
   "execution_count": 8,
   "metadata": {
    "vscode": {
     "languageId": "r"
    }
   },
   "outputs": [],
   "source": [
    "subgroup3 <- as.data.frame(readxl::read_excel(file.path(data_dir, \"subgroup3.xlsx\")))"
   ]
  },
  {
   "cell_type": "code",
   "execution_count": 9,
   "metadata": {
    "vscode": {
     "languageId": "r"
    }
   },
   "outputs": [],
   "source": [
    "fml3 <- \"TCM ~ serum + IBM + AKI + PT + APTT  + fib + DD + PLT + CK + CKMB + Tn\""
   ]
  },
  {
   "cell_type": "code",
   "execution_count": 9,
   "metadata": {
    "vscode": {
     "languageId": "r"
    }
   },
   "outputs": [],
   "source": [
    "echo_ps_ate <- ps(as.formula(fml3),\n",
    "                  data = subgroup3,\n",
    "                  interaction.depth = 2,\n",
    "                  shrinkage = 0.01,\n",
    "                  perm.test.iters = 0,\n",
    "                  estimand = \"ATE\",\n",
    "                  verbose = FALSE,\n",
    "                  stop.method = c(\"es.mean\", \"es.max\", \"ks.mean\", \"ks.max\"),\n",
    "                  n.trees = 10000,\n",
    "                  train.fraction = 0.8,\n",
    "                  version = \"legacy\",\n",
    "                  cv.folds = 3,\n",
    "                  n.cores = 8)"
   ]
  },
  {
   "cell_type": "code",
   "execution_count": 10,
   "metadata": {
    "vscode": {
     "languageId": "r"
    }
   },
   "outputs": [
    {
     "data": {
      "text/html": [
       "<table class=\"dataframe\">\n",
       "<caption>A data.frame: 11 × 2</caption>\n",
       "<thead>\n",
       "\t<tr><th></th><th scope=col>var</th><th scope=col>rel.inf</th></tr>\n",
       "\t<tr><th></th><th scope=col>&lt;chr&gt;</th><th scope=col>&lt;dbl&gt;</th></tr>\n",
       "</thead>\n",
       "<tbody>\n",
       "\t<tr><th scope=row>PLT</th><td>PLT  </td><td>26.6281923</td></tr>\n",
       "\t<tr><th scope=row>DD</th><td>DD   </td><td>15.6338143</td></tr>\n",
       "\t<tr><th scope=row>CKMB</th><td>CKMB </td><td>13.5372025</td></tr>\n",
       "\t<tr><th scope=row>fib</th><td>fib  </td><td>12.1590200</td></tr>\n",
       "\t<tr><th scope=row>PT</th><td>PT   </td><td>10.1497418</td></tr>\n",
       "\t<tr><th scope=row>CK</th><td>CK   </td><td> 6.9462983</td></tr>\n",
       "\t<tr><th scope=row>APTT</th><td>APTT </td><td> 6.3402048</td></tr>\n",
       "\t<tr><th scope=row>serum</th><td>serum</td><td> 4.2867917</td></tr>\n",
       "\t<tr><th scope=row>IBM</th><td>IBM  </td><td> 3.4264364</td></tr>\n",
       "\t<tr><th scope=row>Tn</th><td>Tn   </td><td> 0.6605249</td></tr>\n",
       "\t<tr><th scope=row>AKI</th><td>AKI  </td><td> 0.2317729</td></tr>\n",
       "</tbody>\n",
       "</table>\n"
      ],
      "text/latex": [
       "A data.frame: 11 × 2\n",
       "\\begin{tabular}{r|ll}\n",
       "  & var & rel.inf\\\\\n",
       "  & <chr> & <dbl>\\\\\n",
       "\\hline\n",
       "\tPLT & PLT   & 26.6281923\\\\\n",
       "\tDD & DD    & 15.6338143\\\\\n",
       "\tCKMB & CKMB  & 13.5372025\\\\\n",
       "\tfib & fib   & 12.1590200\\\\\n",
       "\tPT & PT    & 10.1497418\\\\\n",
       "\tCK & CK    &  6.9462983\\\\\n",
       "\tAPTT & APTT  &  6.3402048\\\\\n",
       "\tserum & serum &  4.2867917\\\\\n",
       "\tIBM & IBM   &  3.4264364\\\\\n",
       "\tTn & Tn    &  0.6605249\\\\\n",
       "\tAKI & AKI   &  0.2317729\\\\\n",
       "\\end{tabular}\n"
      ],
      "text/markdown": [
       "\n",
       "A data.frame: 11 × 2\n",
       "\n",
       "| <!--/--> | var &lt;chr&gt; | rel.inf &lt;dbl&gt; |\n",
       "|---|---|---|\n",
       "| PLT | PLT   | 26.6281923 |\n",
       "| DD | DD    | 15.6338143 |\n",
       "| CKMB | CKMB  | 13.5372025 |\n",
       "| fib | fib   | 12.1590200 |\n",
       "| PT | PT    | 10.1497418 |\n",
       "| CK | CK    |  6.9462983 |\n",
       "| APTT | APTT  |  6.3402048 |\n",
       "| serum | serum |  4.2867917 |\n",
       "| IBM | IBM   |  3.4264364 |\n",
       "| Tn | Tn    |  0.6605249 |\n",
       "| AKI | AKI   |  0.2317729 |\n",
       "\n"
      ],
      "text/plain": [
       "      var   rel.inf   \n",
       "PLT   PLT   26.6281923\n",
       "DD    DD    15.6338143\n",
       "CKMB  CKMB  13.5372025\n",
       "fib   fib   12.1590200\n",
       "PT    PT    10.1497418\n",
       "CK    CK     6.9462983\n",
       "APTT  APTT   6.3402048\n",
       "serum serum  4.2867917\n",
       "IBM   IBM    3.4264364\n",
       "Tn    Tn     0.6605249\n",
       "AKI   AKI    0.2317729"
      ]
     },
     "metadata": {},
     "output_type": "display_data"
    }
   ],
   "source": [
    "ft_importance <- summary(echo_ps_ate$gbm.obj,\n",
    "                         n.trees = echo_ps_ate$desc$es.mean.ATE$n.trees,\n",
    "                         plot = FALSE)\n",
    "\n",
    "ft_importance "
   ]
  },
  {
   "cell_type": "code",
   "execution_count": 11,
   "metadata": {
    "vscode": {
     "languageId": "r"
    }
   },
   "outputs": [
    {
     "data": {
      "image/png": "[encoded data removed]",
      "text/plain": [
       "plot without title"
      ]
     },
     "metadata": {
      "image/png": {
       "height": 420,
       "width": 420
      }
     },
     "output_type": "display_data"
    }
   ],
   "source": [
    "colors <- c(\"#FF0000\", \"#00FF00\", \"#0000FF\", \"#FFFF00\", \"#00FFFF\", \"#FF00FF\", \"#800000\", \"#008000\", \"#000080\", \"#808000\", \"#800080\", \"#008080\", \"#C0C0C0\", \"#808080\")\n",
    "\n",
    "# 绘制特征重要性条形图\n",
    "ggplot(data = ft_importance, aes(x = reorder(var, rel.inf), y = rel.inf, fill = var)) +\n",
    "  geom_bar(stat = \"identity\", width = 0.6, color = \"black\") +\n",
    "  scale_fill_manual(values = colors) +\n",
    "  labs(x = \"Feature\", y = \"Importance\", title = \"Feature Importance\") +\n",
    "  theme_minimal() +\n",
    "  theme(\n",
    "    axis.text.x = element_text(angle = 45, hjust = 1),\n",
    "    legend.title = element_blank(),\n",
    "    legend.position = \"top\",\n",
    "    plot.title = element_text(hjust = 0.5, size = 16, face = \"bold\"),\n",
    "    axis.title = element_text(size = 12),\n",
    "    axis.text = element_text(size = 10),\n",
    "    legend.text = element_text(size = 10),\n",
    "    panel.grid.major.y = element_blank(),\n",
    "    panel.border = element_blank(),\n",
    "    panel.grid.major.x = element_line(color = \"lightgray\", linetype = \"dashed\"),\n",
    "    plot.margin = margin(10, 20, 10, 10)\n",
    "  )"
   ]
  }
 ],
 "metadata": {
  "kernelspec": {
   "display_name": "R",
   "language": "R",
   "name": "ir"
  },
  "language_info": {
   "codemirror_mode": "r",
   "file_extension": ".r",
   "mimetype": "text/x-r-source",
   "name": "R",
   "pygments_lexer": "r",
   "version": "4.3.2"
  }
 },
 "nbformat": 4,
 "nbformat_minor": 2
}
