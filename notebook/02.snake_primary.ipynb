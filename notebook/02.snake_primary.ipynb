{
 "cells": [
  {
   "cell_type": "code",
   "execution_count": 2,
   "metadata": {
    "vscode": {
     "languageId": "r"
    }
   },
   "outputs": [
    {
     "name": "stderr",
     "output_type": "stream",
     "text": [
      "Loading required package: nortest\n",
      "\n",
      "Warning message:\n",
      "\"package 'RPostgreSQL' was built under R version 4.3.3\"\n",
      "Loading required package: DBI\n",
      "\n",
      "Warning message:\n",
      "\"package 'twang' was built under R version 4.3.3\"\n",
      "Warning message in .recacheSubclasses(def@className, def, env):\n",
      "\"undefined subclass \"ndiMatrix\" of class \"replValueSp\"; definition not updated\"\n",
      "To reproduce results from prior versions of the twang package, please see the version=\"legacy\" option described in the documentation.\n",
      "\n",
      "Warning message:\n",
      "\"package 'Matching' was built under R version 4.3.3\"\n",
      "Loading required package: MASS\n",
      "\n",
      "## \n",
      "##  Matching (Version 4.10-14, Build Date: 2023-09-13)\n",
      "##  See https://www.jsekhon.com for additional documentation.\n",
      "##  Please cite software as:\n",
      "##   Jasjeet S. Sekhon. 2011. ``Multivariate and Propensity Score Matching\n",
      "##   Software with Automated Balance Optimization: The Matching package for R.''\n",
      "##   Journal of Statistical Software, 42(7): 1-52. \n",
      "##\n",
      "\n",
      "\n",
      "Warning message:\n",
      "\"package 'tidyverse' was built under R version 4.3.3\"\n",
      "Warning message:\n",
      "\"package 'readr' was built under R version 4.3.3\"\n",
      "Warning message:\n",
      "\"package 'forcats' was built under R version 4.3.3\"\n",
      "Warning message:\n",
      "\"package 'lubridate' was built under R version 4.3.3\"\n",
      "── \u001b[1mAttaching core tidyverse packages\u001b[22m ──────────────────────── tidyverse 2.0.0 ──\n",
      "\u001b[32m✔\u001b[39m \u001b[34mdplyr    \u001b[39m 1.1.4     \u001b[32m✔\u001b[39m \u001b[34mreadr    \u001b[39m 2.1.5\n",
      "\u001b[32m✔\u001b[39m \u001b[34mforcats  \u001b[39m 1.0.0     \u001b[32m✔\u001b[39m \u001b[34mstringr  \u001b[39m 1.5.1\n",
      "\u001b[32m✔\u001b[39m \u001b[34mggplot2  \u001b[39m 3.4.4     \u001b[32m✔\u001b[39m \u001b[34mtibble   \u001b[39m 3.2.1\n",
      "\u001b[32m✔\u001b[39m \u001b[34mlubridate\u001b[39m 1.9.3     \u001b[32m✔\u001b[39m \u001b[34mtidyr    \u001b[39m 1.3.1\n",
      "\u001b[32m✔\u001b[39m \u001b[34mpurrr    \u001b[39m 1.0.2     \n",
      "── \u001b[1mConflicts\u001b[22m ────────────────────────────────────────── tidyverse_conflicts() ──\n",
      "\u001b[31m✖\u001b[39m \u001b[34mdplyr\u001b[39m::\u001b[32mfilter()\u001b[39m masks \u001b[34mstats\u001b[39m::filter()\n",
      "\u001b[31m✖\u001b[39m \u001b[34mdplyr\u001b[39m::\u001b[32mlag()\u001b[39m    masks \u001b[34mstats\u001b[39m::lag()\n",
      "\u001b[31m✖\u001b[39m \u001b[34mdplyr\u001b[39m::\u001b[32mselect()\u001b[39m masks \u001b[34mMASS\u001b[39m::select()\n",
      "\u001b[36mℹ\u001b[39m Use the conflicted package (\u001b[3m\u001b[34m<http://conflicted.r-lib.org/>\u001b[39m\u001b[23m) to force all conflicts to become errors\n",
      "Warning message:\n",
      "\"package 'readxl' was built under R version 4.3.3\"\n",
      "Warning message:\n",
      "\"package 'tableone' was built under R version 4.3.3\"\n"
     ]
    }
   ],
   "source": [
    "library(CBCgrps)\n",
    "library(nortest)\n",
    "library(RPostgreSQL)\n",
    "library(twang)\n",
    "library(Matching)\n",
    "library(tidyverse)\n",
    "library(ggplot2)\n",
    "library(readxl)\n",
    "library(tableone)"
   ]
  },
  {
   "cell_type": "code",
   "execution_count": 1,
   "metadata": {
    "vscode": {
     "languageId": "r"
    }
   },
   "outputs": [],
   "source": [
    "data_dir <- file.path(\"..\", \"data\")"
   ]
  },
  {
   "cell_type": "code",
   "execution_count": 3,
   "metadata": {
    "vscode": {
     "languageId": "r"
    }
   },
   "outputs": [],
   "source": [
    "data <- read_excel(file.path(data_dir, \"baseline.xlsx\"))"
   ]
  },
  {
   "cell_type": "markdown",
   "metadata": {},
   "source": [
    "## 以下是二组的baseline分析比较"
   ]
  },
  {
   "cell_type": "code",
   "execution_count": 4,
   "metadata": {
    "vscode": {
     "languageId": "r"
    }
   },
   "outputs": [],
   "source": [
    "vec1 <- as.data.frame(data)"
   ]
  },
  {
   "cell_type": "code",
   "execution_count": 5,
   "metadata": {
    "vscode": {
     "languageId": "r"
    }
   },
   "outputs": [],
   "source": [
    "# Rename the 'CK-MB' column to 'CK_MB'\n",
    "names(vec1)[names(vec1) == 'CK-MB'] <- 'CK_MB'\n",
    "\n",
    "features <- c(\"los_hos\", \"serum\", \"TCM\", \"gender\", \"age\", \"weight\", \"hight\", \"IBM\", \n",
    "              \"ALT\", \"AST\", \"AKI\", \"complication\", \"GCs\", \"dose\", \"PT\", \"APTT\",\n",
    "              \"fib\", \"DD\", \"PLT\", \"CK\", \"CKMB\", \"Tn\")"
   ]
  },
  {
   "cell_type": "code",
   "execution_count": 6,
   "metadata": {
    "vscode": {
     "languageId": "r"
    }
   },
   "outputs": [
    {
     "name": "stdout",
     "output_type": "stream",
     "text": [
      "                                                                        \n",
      "1                \"Variables\"       \"Total (n = 300)\"        \"0 (n = 73)\"\n",
      "2  \"stay_id, Median (Q1,Q3)\" \"150.5 (75.75, 225.25)\"     \"135 (74, 203)\"\n",
      "3  \"los_hos, Median (Q1,Q3)\"         \"12 (7, 22.25)\"        \"12 (9, 23)\"\n",
      "4             \"serum, n (%)\"                      \"\"                  \"\"\n",
      "5                      \"  0\"                \"10 (3)\"             \"2 (3)\"\n",
      "6                      \"  1\"              \"181 (60)\"           \"44 (60)\"\n",
      "7                      \"  2\"               \"49 (16)\"           \"17 (23)\"\n",
      "8                      \"  3\"               \"60 (20)\"           \"10 (14)\"\n",
      "9            \"gender, n (%)\"                      \"\"                  \"\"\n",
      "10                     \"  1\"              \"169 (56)\"           \"39 (53)\"\n",
      "11                     \"  2\"              \"131 (44)\"           \"34 (47)\"\n",
      "12     \"age, Median (Q1,Q3)\"        \"58 (46.75, 66)\"       \"59 (53, 66)\"\n",
      "13  \"weight, Median (Q1,Q3)\"        \"63 (53.75, 69)\"       \"64 (55, 69)\"\n",
      "14   \"hight, Median (Q1,Q3)\"       \"1.65 (1.6, 1.7)\"   \"1.65 (1.6, 1.7)\"\n",
      "15          \"IBM, Mean ± SD\"          \"22.65 ± 3.38\"         \"22.78 ± 3\"\n",
      "16     \"ALT, Median (Q1,Q3)\"        \"36 (23, 63.25)\"       \"42 (25, 77)\"\n",
      "17     \"AST, Median (Q1,Q3)\"           \"23 (16, 35)\"       \"25 (17, 37)\"\n",
      "18              \"AKI, n (%)\"                      \"\"                  \"\"\n",
      "19                     \"  0\"              \"270 (90)\"           \"64 (88)\"\n",
      "20                     \"  1\"               \"29 (10)\"            \"9 (12)\"\n",
      "21     \"complication, n (%)\"                      \"\"                  \"\"\n",
      "22                     \"  0\"              \"206 (69)\"           \"45 (62)\"\n",
      "23                     \"  1\"               \"70 (23)\"           \"23 (32)\"\n",
      "24                     \"  2\"                \"14 (5)\"             \"3 (4)\"\n",
      "25                     \"  3\"                 \"1 (0)\"             \"0 (0)\"\n",
      "26                     \"  4\"                 \"9 (3)\"             \"2 (3)\"\n",
      "27              \"GCs, n (%)\"                      \"\"                  \"\"\n",
      "28                     \"  1\"              \"159 (53)\"           \"41 (56)\"\n",
      "29                     \"  2\"              \"126 (42)\"           \"31 (42)\"\n",
      "30                     \"  3\"                \"15 (5)\"             \"1 (1)\"\n",
      "31             \"dose, n (%)\"                      \"\"                  \"\"\n",
      "32                     \"  5\"                 \"2 (1)\"             \"0 (0)\"\n",
      "33                   \"  7.5\"                \"25 (8)\"             \"3 (4)\"\n",
      "34                    \"  10\"              \"112 (37)\"           \"31 (42)\"\n",
      "35                    \"  15\"                \"23 (8)\"            \"8 (11)\"\n",
      "36                    \"  20\"                 \"3 (1)\"             \"0 (0)\"\n",
      "37                    \"  30\"                 \"5 (2)\"             \"0 (0)\"\n",
      "38                    \"  40\"                 \"3 (1)\"             \"1 (1)\"\n",
      "39                    \"  50\"                 \"1 (0)\"             \"0 (0)\"\n",
      "40                    \"  60\"              \"126 (42)\"           \"30 (41)\"\n",
      "41      \"PT, Median (Q1,Q3)\"      \"11 (10.5, 12.03)\"   \"11 (10.6, 11.7)\"\n",
      "42    \"APTT, Median (Q1,Q3)\"    \"24.95 (23.3, 26.9)\" \"24.3 (22.8, 26.3)\"\n",
      "43     \"fib, Median (Q1,Q3)\"      \"2.43 (1.94, 2.8)\"  \"2.47 (2.02, 2.8)\"\n",
      "44      \"DD, Median (Q1,Q3)\"     \"0.57 (0.27, 1.61)\"  \"0.61 (0.3, 1.54)\"\n",
      "45          \"PLT, Mean ± SD\"        \"176.67 ± 78.95\"    \"167.36 ± 78.94\"\n",
      "46      \"CK, Median (Q1,Q3)\"    \"153.5 (93.75, 269)\"     \"154 (89, 306)\"\n",
      "47    \"CKMB, Median (Q1,Q3)\"   \"22.7 (18.38, 31.88)\" \"22.8 (18.2, 28.8)\"\n",
      "48      \"Tn, Median (Q1,Q3)\"           \"0 (0, 0.01)\"       \"0 (0, 0.01)\"\n",
      "49         \"fib_flag, n (%)\"                      \"\"                  \"\"\n",
      "50                     \"  0\"              \"176 (59)\"           \"48 (66)\"\n",
      "51                     \"  1\"              \"124 (41)\"           \"25 (34)\"\n",
      "52          \"gc_flag, n (%)\"                      \"\"                  \"\"\n",
      "53                     \"  0\"              \"129 (43)\"           \"30 (41)\"\n",
      "54                     \"  1\"              \"171 (57)\"           \"43 (59)\"\n",
      "55     \"los_hos_flag, n (%)\"                      \"\"                  \"\"\n",
      "56                     \"  0\"              \"207 (69)\"           \"67 (92)\"\n",
      "57                     \"  1\"               \"93 (31)\"             \"6 (8)\"\n",
      "                                  \n",
      "1          \"1 (n = 227)\"       \"p\"\n",
      "2      \"157 (77.5, 229)\"   \"0.368\"\n",
      "3           \"12 (6, 22)\"   \"0.285\"\n",
      "4                     \"\"   \"0.183\"\n",
      "5                \"8 (4)\"       \" \"\n",
      "6             \"137 (60)\"       \" \"\n",
      "7              \"32 (14)\"       \" \"\n",
      "8              \"50 (22)\"       \" \"\n",
      "9                     \"\"    \"0.66\"\n",
      "10            \"130 (57)\"       \" \"\n",
      "11             \"97 (43)\"       \" \"\n",
      "12         \"58 (44, 66)\"    \"0.33\"\n",
      "13     \"63 (53.5, 69.5)\"   \"0.944\"\n",
      "14     \"1.65 (1.6, 1.7)\"   \"0.661\"\n",
      "15        \"22.61 ± 3.49\"   \"0.696\"\n",
      "16       \"35 (22, 57.5)\"   \"0.031\"\n",
      "17       \"22 (16, 33.5)\"   \"0.134\"\n",
      "18                    \"\"   \"0.518\"\n",
      "19            \"206 (91)\"       \" \"\n",
      "20              \"20 (9)\"       \" \"\n",
      "21                    \"\"   \"0.418\"\n",
      "22            \"161 (71)\"       \" \"\n",
      "23             \"47 (21)\"       \" \"\n",
      "24              \"11 (5)\"       \" \"\n",
      "25               \"1 (0)\"       \" \"\n",
      "26               \"7 (3)\"       \" \"\n",
      "27                    \"\"   \"0.281\"\n",
      "28            \"118 (52)\"       \" \"\n",
      "29             \"95 (42)\"       \" \"\n",
      "30              \"14 (6)\"       \" \"\n",
      "31                    \"\"   \"0.513\"\n",
      "32               \"2 (1)\"       \" \"\n",
      "33             \"22 (10)\"       \" \"\n",
      "34             \"81 (36)\"       \" \"\n",
      "35              \"15 (7)\"       \" \"\n",
      "36               \"3 (1)\"       \" \"\n",
      "37               \"5 (2)\"       \" \"\n",
      "38               \"2 (1)\"       \" \"\n",
      "39               \"1 (0)\"       \" \"\n",
      "40             \"96 (42)\"       \" \"\n",
      "41     \"11 (10.5, 12.1)\"     \"0.8\"\n",
      "42   \"25.1 (23.6, 27.1)\"   \"0.066\"\n",
      "43     \"2.4 (1.92, 2.8)\"   \"0.406\"\n",
      "44   \"0.55 (0.27, 1.72)\"   \"0.867\"\n",
      "45      \"179.67 ± 78.89\"   \"0.247\"\n",
      "46     \"151 (94.5, 264)\"   \"0.512\"\n",
      "47 \"22.7 (18.45, 32.55)\"   \"0.722\"\n",
      "48         \"0 (0, 0.01)\"     \"0.9\"\n",
      "49                    \"\"   \"0.202\"\n",
      "50            \"128 (56)\"       \" \"\n",
      "51             \"99 (44)\"       \" \"\n",
      "52                    \"\"   \"0.809\"\n",
      "53             \"99 (44)\"       \" \"\n",
      "54            \"128 (56)\"       \" \"\n",
      "55                    \"\" \"< 0.001\"\n",
      "56            \"140 (62)\"       \" \"\n",
      "57             \"87 (38)\"       \" \"\n"
     ]
    }
   ],
   "source": [
    "\n",
    "tab1 <-multigrps(vec1, gvar = \"TCM\")\n",
    "print(tab1, quote = T)"
   ]
  },
  {
   "cell_type": "code",
   "execution_count": 8,
   "metadata": {
    "vscode": {
     "languageId": "r"
    }
   },
   "outputs": [],
   "source": [
    "tab <- CreateTableOne(vars = features,\n",
    "                      strata = \"TCM\",\n",
    "                      data = vec1,\n",
    "                      argsNormal = list(var.equal = FALSE))\n"
   ]
  },
  {
   "cell_type": "code",
   "execution_count": 9,
   "metadata": {
    "vscode": {
     "languageId": "r"
    }
   },
   "outputs": [
    {
     "data": {
      "text/html": [
       "<table class=\"dataframe\">\n",
       "<caption>A data.frame: 23 × 6</caption>\n",
       "<thead>\n",
       "\t<tr><th scope=col>n</th><th scope=col>0</th><th scope=col>1</th><th scope=col>p</th><th scope=col>test</th><th scope=col>SMD</th></tr>\n",
       "\t<tr><th scope=col>&lt;chr&gt;</th><th scope=col>&lt;chr&gt;</th><th scope=col>&lt;chr&gt;</th><th scope=col>&lt;chr&gt;</th><th scope=col>&lt;chr&gt;</th><th scope=col>&lt;chr&gt;</th></tr>\n",
       "</thead>\n",
       "<tbody>\n",
       "\t<tr><td>n                       </td><td>    73          </td><td>   227          </td><td>      </td><td></td><td>      </td></tr>\n",
       "\t<tr><td>los_hos (mean (SD))     </td><td> 14.47 (8.12)   </td><td> 14.06 (9.66)   </td><td> 0.721</td><td></td><td> 0.046</td></tr>\n",
       "\t<tr><td>serum (mean (SD))       </td><td>  1.48 (0.77)   </td><td>  1.55 (0.87)   </td><td> 0.532</td><td></td><td> 0.081</td></tr>\n",
       "\t<tr><td>TCM (mean (SD))         </td><td>  0.00 (0.00)   </td><td>  1.00 (0.00)   </td><td>   NaN</td><td></td><td>   Inf</td></tr>\n",
       "\t<tr><td>gender (mean (SD))      </td><td>  1.47 (0.50)   </td><td>  1.43 (0.50)   </td><td> 0.569</td><td></td><td> 0.077</td></tr>\n",
       "\t<tr><td>age (mean (SD))         </td><td> 55.66 (15.98)  </td><td> 52.78 (18.30)  </td><td> 0.198</td><td></td><td> 0.168</td></tr>\n",
       "\t<tr><td>weight (mean (SD))      </td><td> 61.34 (11.11)  </td><td> 61.24 (12.74)  </td><td> 0.950</td><td></td><td> 0.008</td></tr>\n",
       "\t<tr><td>hight (mean (SD))       </td><td>  1.64 (0.11)   </td><td>  1.64 (0.11)   </td><td> 0.882</td><td></td><td> 0.020</td></tr>\n",
       "\t<tr><td>IBM (mean (SD))         </td><td> 22.78 (3.00)   </td><td> 22.61 (3.49)   </td><td> 0.673</td><td></td><td> 0.055</td></tr>\n",
       "\t<tr><td>ALT (mean (SD))         </td><td> 66.77 (66.51)  </td><td> 46.97 (42.10)  </td><td> 0.019</td><td></td><td> 0.356</td></tr>\n",
       "\t<tr><td>AST (mean (SD))         </td><td> 31.23 (20.58)  </td><td> 27.41 (17.81)  </td><td> 0.157</td><td></td><td> 0.198</td></tr>\n",
       "\t<tr><td>AKI (mean (SD))         </td><td>  0.12 (0.33)   </td><td>  0.09 (0.28)   </td><td> 0.422</td><td></td><td> 0.113</td></tr>\n",
       "\t<tr><td>complication (mean (SD))</td><td>  0.51 (0.82)   </td><td>  0.44 (0.86)   </td><td> 0.553</td><td></td><td> 0.079</td></tr>\n",
       "\t<tr><td>GCs (mean (SD))         </td><td>  1.45 (0.53)   </td><td>  1.54 (0.61)   </td><td> 0.227</td><td></td><td> 0.157</td></tr>\n",
       "\t<tr><td>dose (mean (SD))        </td><td> 31.40 (24.35)  </td><td> 32.20 (24.38)  </td><td> 0.808</td><td></td><td> 0.033</td></tr>\n",
       "\t<tr><td>PT (mean (SD))          </td><td> 14.23 (17.91)  </td><td> 21.87 (32.25)  </td><td> 0.011</td><td></td><td> 0.293</td></tr>\n",
       "\t<tr><td>APTT (mean (SD))        </td><td> 24.74 (2.87)   </td><td> 30.64 (27.71)  </td><td> 0.002</td><td></td><td> 0.299</td></tr>\n",
       "\t<tr><td>fib (mean (SD))         </td><td>  2.42 (0.97)   </td><td>  2.39 (1.84)   </td><td> 0.841</td><td></td><td> 0.023</td></tr>\n",
       "\t<tr><td>DD (mean (SD))          </td><td>  3.53 (16.63)  </td><td>  2.97 (13.99)  </td><td> 0.798</td><td></td><td> 0.036</td></tr>\n",
       "\t<tr><td>PLT (mean (SD))         </td><td>167.36 (78.94)  </td><td>179.67 (78.89)  </td><td> 0.249</td><td></td><td> 0.156</td></tr>\n",
       "\t<tr><td>CK (mean (SD))          </td><td>729.11 (2297.92)</td><td>505.96 (2188.30)</td><td> 0.467</td><td></td><td> 0.099</td></tr>\n",
       "\t<tr><td>CKMB (mean (SD))        </td><td> 57.99 (135.71) </td><td> 74.78 (229.14) </td><td> 0.446</td><td></td><td> 0.089</td></tr>\n",
       "\t<tr><td>Tn (mean (SD))          </td><td>  0.01 (0.03)   </td><td>  0.03 (0.17)   </td><td> 0.225</td><td></td><td> 0.117</td></tr>\n",
       "</tbody>\n",
       "</table>\n"
      ],
      "text/latex": [
       "A data.frame: 23 × 6\n",
       "\\begin{tabular}{llllll}\n",
       " n & 0 & 1 & p & test & SMD\\\\\n",
       " <chr> & <chr> & <chr> & <chr> & <chr> & <chr>\\\\\n",
       "\\hline\n",
       "\t n                        &     73           &    227           &        &  &       \\\\\n",
       "\t los\\_hos (mean (SD))      &  14.47 (8.12)    &  14.06 (9.66)    &  0.721 &  &  0.046\\\\\n",
       "\t serum (mean (SD))        &   1.48 (0.77)    &   1.55 (0.87)    &  0.532 &  &  0.081\\\\\n",
       "\t TCM (mean (SD))          &   0.00 (0.00)    &   1.00 (0.00)    &    NaN &  &    Inf\\\\\n",
       "\t gender (mean (SD))       &   1.47 (0.50)    &   1.43 (0.50)    &  0.569 &  &  0.077\\\\\n",
       "\t age (mean (SD))          &  55.66 (15.98)   &  52.78 (18.30)   &  0.198 &  &  0.168\\\\\n",
       "\t weight (mean (SD))       &  61.34 (11.11)   &  61.24 (12.74)   &  0.950 &  &  0.008\\\\\n",
       "\t hight (mean (SD))        &   1.64 (0.11)    &   1.64 (0.11)    &  0.882 &  &  0.020\\\\\n",
       "\t IBM (mean (SD))          &  22.78 (3.00)    &  22.61 (3.49)    &  0.673 &  &  0.055\\\\\n",
       "\t ALT (mean (SD))          &  66.77 (66.51)   &  46.97 (42.10)   &  0.019 &  &  0.356\\\\\n",
       "\t AST (mean (SD))          &  31.23 (20.58)   &  27.41 (17.81)   &  0.157 &  &  0.198\\\\\n",
       "\t AKI (mean (SD))          &   0.12 (0.33)    &   0.09 (0.28)    &  0.422 &  &  0.113\\\\\n",
       "\t complication (mean (SD)) &   0.51 (0.82)    &   0.44 (0.86)    &  0.553 &  &  0.079\\\\\n",
       "\t GCs (mean (SD))          &   1.45 (0.53)    &   1.54 (0.61)    &  0.227 &  &  0.157\\\\\n",
       "\t dose (mean (SD))         &  31.40 (24.35)   &  32.20 (24.38)   &  0.808 &  &  0.033\\\\\n",
       "\t PT (mean (SD))           &  14.23 (17.91)   &  21.87 (32.25)   &  0.011 &  &  0.293\\\\\n",
       "\t APTT (mean (SD))         &  24.74 (2.87)    &  30.64 (27.71)   &  0.002 &  &  0.299\\\\\n",
       "\t fib (mean (SD))          &   2.42 (0.97)    &   2.39 (1.84)    &  0.841 &  &  0.023\\\\\n",
       "\t DD (mean (SD))           &   3.53 (16.63)   &   2.97 (13.99)   &  0.798 &  &  0.036\\\\\n",
       "\t PLT (mean (SD))          & 167.36 (78.94)   & 179.67 (78.89)   &  0.249 &  &  0.156\\\\\n",
       "\t CK (mean (SD))           & 729.11 (2297.92) & 505.96 (2188.30) &  0.467 &  &  0.099\\\\\n",
       "\t CKMB (mean (SD))         &  57.99 (135.71)  &  74.78 (229.14)  &  0.446 &  &  0.089\\\\\n",
       "\t Tn (mean (SD))           &   0.01 (0.03)    &   0.03 (0.17)    &  0.225 &  &  0.117\\\\\n",
       "\\end{tabular}\n"
      ],
      "text/markdown": [
       "\n",
       "A data.frame: 23 × 6\n",
       "\n",
       "| n &lt;chr&gt; | 0 &lt;chr&gt; | 1 &lt;chr&gt; | p &lt;chr&gt; | test &lt;chr&gt; | SMD &lt;chr&gt; |\n",
       "|---|---|---|---|---|---|\n",
       "| n                        |     73           |    227           | <!----> | <!----> | <!----> |\n",
       "| los_hos (mean (SD))      |  14.47 (8.12)    |  14.06 (9.66)    |  0.721 | <!----> |  0.046 |\n",
       "| serum (mean (SD))        |   1.48 (0.77)    |   1.55 (0.87)    |  0.532 | <!----> |  0.081 |\n",
       "| TCM (mean (SD))          |   0.00 (0.00)    |   1.00 (0.00)    |    NaN | <!----> |    Inf |\n",
       "| gender (mean (SD))       |   1.47 (0.50)    |   1.43 (0.50)    |  0.569 | <!----> |  0.077 |\n",
       "| age (mean (SD))          |  55.66 (15.98)   |  52.78 (18.30)   |  0.198 | <!----> |  0.168 |\n",
       "| weight (mean (SD))       |  61.34 (11.11)   |  61.24 (12.74)   |  0.950 | <!----> |  0.008 |\n",
       "| hight (mean (SD))        |   1.64 (0.11)    |   1.64 (0.11)    |  0.882 | <!----> |  0.020 |\n",
       "| IBM (mean (SD))          |  22.78 (3.00)    |  22.61 (3.49)    |  0.673 | <!----> |  0.055 |\n",
       "| ALT (mean (SD))          |  66.77 (66.51)   |  46.97 (42.10)   |  0.019 | <!----> |  0.356 |\n",
       "| AST (mean (SD))          |  31.23 (20.58)   |  27.41 (17.81)   |  0.157 | <!----> |  0.198 |\n",
       "| AKI (mean (SD))          |   0.12 (0.33)    |   0.09 (0.28)    |  0.422 | <!----> |  0.113 |\n",
       "| complication (mean (SD)) |   0.51 (0.82)    |   0.44 (0.86)    |  0.553 | <!----> |  0.079 |\n",
       "| GCs (mean (SD))          |   1.45 (0.53)    |   1.54 (0.61)    |  0.227 | <!----> |  0.157 |\n",
       "| dose (mean (SD))         |  31.40 (24.35)   |  32.20 (24.38)   |  0.808 | <!----> |  0.033 |\n",
       "| PT (mean (SD))           |  14.23 (17.91)   |  21.87 (32.25)   |  0.011 | <!----> |  0.293 |\n",
       "| APTT (mean (SD))         |  24.74 (2.87)    |  30.64 (27.71)   |  0.002 | <!----> |  0.299 |\n",
       "| fib (mean (SD))          |   2.42 (0.97)    |   2.39 (1.84)    |  0.841 | <!----> |  0.023 |\n",
       "| DD (mean (SD))           |   3.53 (16.63)   |   2.97 (13.99)   |  0.798 | <!----> |  0.036 |\n",
       "| PLT (mean (SD))          | 167.36 (78.94)   | 179.67 (78.89)   |  0.249 | <!----> |  0.156 |\n",
       "| CK (mean (SD))           | 729.11 (2297.92) | 505.96 (2188.30) |  0.467 | <!----> |  0.099 |\n",
       "| CKMB (mean (SD))         |  57.99 (135.71)  |  74.78 (229.14)  |  0.446 | <!----> |  0.089 |\n",
       "| Tn (mean (SD))           |   0.01 (0.03)    |   0.03 (0.17)    |  0.225 | <!----> |  0.117 |\n",
       "\n"
      ],
      "text/plain": [
       "   n                        0                1                p      test\n",
       "1  n                            73              227                      \n",
       "2  los_hos (mean (SD))       14.47 (8.12)     14.06 (9.66)     0.721     \n",
       "3  serum (mean (SD))          1.48 (0.77)      1.55 (0.87)     0.532     \n",
       "4  TCM (mean (SD))            0.00 (0.00)      1.00 (0.00)       NaN     \n",
       "5  gender (mean (SD))         1.47 (0.50)      1.43 (0.50)     0.569     \n",
       "6  age (mean (SD))           55.66 (15.98)    52.78 (18.30)    0.198     \n",
       "7  weight (mean (SD))        61.34 (11.11)    61.24 (12.74)    0.950     \n",
       "8  hight (mean (SD))          1.64 (0.11)      1.64 (0.11)     0.882     \n",
       "9  IBM (mean (SD))           22.78 (3.00)     22.61 (3.49)     0.673     \n",
       "10 ALT (mean (SD))           66.77 (66.51)    46.97 (42.10)    0.019     \n",
       "11 AST (mean (SD))           31.23 (20.58)    27.41 (17.81)    0.157     \n",
       "12 AKI (mean (SD))            0.12 (0.33)      0.09 (0.28)     0.422     \n",
       "13 complication (mean (SD))   0.51 (0.82)      0.44 (0.86)     0.553     \n",
       "14 GCs (mean (SD))            1.45 (0.53)      1.54 (0.61)     0.227     \n",
       "15 dose (mean (SD))          31.40 (24.35)    32.20 (24.38)    0.808     \n",
       "16 PT (mean (SD))            14.23 (17.91)    21.87 (32.25)    0.011     \n",
       "17 APTT (mean (SD))          24.74 (2.87)     30.64 (27.71)    0.002     \n",
       "18 fib (mean (SD))            2.42 (0.97)      2.39 (1.84)     0.841     \n",
       "19 DD (mean (SD))             3.53 (16.63)     2.97 (13.99)    0.798     \n",
       "20 PLT (mean (SD))          167.36 (78.94)   179.67 (78.89)    0.249     \n",
       "21 CK (mean (SD))           729.11 (2297.92) 505.96 (2188.30)  0.467     \n",
       "22 CKMB (mean (SD))          57.99 (135.71)   74.78 (229.14)   0.446     \n",
       "23 Tn (mean (SD))             0.01 (0.03)      0.03 (0.17)     0.225     \n",
       "   SMD   \n",
       "1        \n",
       "2   0.046\n",
       "3   0.081\n",
       "4     Inf\n",
       "5   0.077\n",
       "6   0.168\n",
       "7   0.008\n",
       "8   0.020\n",
       "9   0.055\n",
       "10  0.356\n",
       "11  0.198\n",
       "12  0.113\n",
       "13  0.079\n",
       "14  0.157\n",
       "15  0.033\n",
       "16  0.293\n",
       "17  0.299\n",
       "18  0.023\n",
       "19  0.036\n",
       "20  0.156\n",
       "21  0.099\n",
       "22  0.089\n",
       "23  0.117"
      ]
     },
     "metadata": {},
     "output_type": "display_data"
    }
   ],
   "source": [
    "capture.output(tab_df <- tab %>%\n",
    "               print(smd = TRUE) %>%\n",
    "               as.data.frame(stringsAsFactors = FALSE) %>%\n",
    "               tibble::rownames_to_column(var = \"n\") %>%\n",
    "               dplyr::select(n, everything())) %>% invisible\n",
    "\n",
    "tab_df\n",
    "\n"
   ]
  },
  {
   "cell_type": "code",
   "execution_count": 10,
   "metadata": {
    "vscode": {
     "languageId": "r"
    }
   },
   "outputs": [],
   "source": [
    "data.table::fwrite(tab_df, file.path(data_dir, \"tab_baseline.csv\"), col.names = TRUE)"
   ]
  },
  {
   "cell_type": "code",
   "execution_count": 11,
   "metadata": {
    "vscode": {
     "languageId": "r"
    }
   },
   "outputs": [],
   "source": [
    "tab_serum <- CreateTableOne(vars = features,\n",
    "                      strata = \"serum\",\n",
    "                      data = vec1,\n",
    "                      argsNormal = list(var.equal = FALSE))\n"
   ]
  },
  {
   "cell_type": "code",
   "execution_count": 12,
   "metadata": {
    "vscode": {
     "languageId": "r"
    }
   },
   "outputs": [
    {
     "data": {
      "text/html": [
       "<table class=\"dataframe\">\n",
       "<caption>A data.frame: 23 × 8</caption>\n",
       "<thead>\n",
       "\t<tr><th scope=col>n</th><th scope=col>0</th><th scope=col>1</th><th scope=col>2</th><th scope=col>3</th><th scope=col>p</th><th scope=col>test</th><th scope=col>SMD</th></tr>\n",
       "\t<tr><th scope=col>&lt;chr&gt;</th><th scope=col>&lt;chr&gt;</th><th scope=col>&lt;chr&gt;</th><th scope=col>&lt;chr&gt;</th><th scope=col>&lt;chr&gt;</th><th scope=col>&lt;chr&gt;</th><th scope=col>&lt;chr&gt;</th><th scope=col>&lt;chr&gt;</th></tr>\n",
       "</thead>\n",
       "<tbody>\n",
       "\t<tr><td>n                       </td><td>     10          </td><td>   181          </td><td>    49         </td><td>    60         </td><td>      </td><td></td><td>      </td></tr>\n",
       "\t<tr><td>los_hos (mean (SD))     </td><td>  13.80 (13.63)  </td><td> 14.49 (9.37)   </td><td> 13.35 (7.77)  </td><td> 13.86 (9.58)  </td><td> 0.851</td><td></td><td> 0.061</td></tr>\n",
       "\t<tr><td>serum (mean (SD))       </td><td>   0.00 (0.00)   </td><td>  1.00 (0.00)   </td><td>  2.00 (0.00)  </td><td>  3.00 (0.00)  </td><td>   NaN</td><td></td><td>   Inf</td></tr>\n",
       "\t<tr><td>TCM (mean (SD))         </td><td>   0.80 (0.42)   </td><td>  0.76 (0.43)   </td><td>  0.65 (0.48)  </td><td>  0.83 (0.38)  </td><td> 0.220</td><td></td><td> 0.224</td></tr>\n",
       "\t<tr><td>gender (mean (SD))      </td><td>   1.50 (0.53)   </td><td>  1.47 (0.50)   </td><td>  1.29 (0.46)  </td><td>  1.45 (0.50)  </td><td> 0.126</td><td></td><td> 0.226</td></tr>\n",
       "\t<tr><td><span style=white-space:pre-wrap>age (mean (SD))         </span></td><td><span style=white-space:pre-wrap>  56.50 (13.61)  </span></td><td><span style=white-space:pre-wrap> 49.67 (19.05)  </span></td><td> 59.33 (14.92) </td><td> 59.67 (13.14) </td><td>&lt;0.001</td><td></td><td> 0.341</td></tr>\n",
       "\t<tr><td>weight (mean (SD))      </td><td>  69.30 (10.21)  </td><td> 60.97 (13.19)  </td><td> 61.00 (10.52) </td><td> 61.03 (11.18) </td><td> 0.124</td><td></td><td> 0.381</td></tr>\n",
       "\t<tr><td>hight (mean (SD))       </td><td>   1.65 (0.05)   </td><td>  1.63 (0.12)   </td><td>  1.65 (0.07)  </td><td>  1.64 (0.09)  </td><td> 0.651</td><td></td><td> 0.096</td></tr>\n",
       "\t<tr><td>IBM (mean (SD))         </td><td>  25.48 (2.91)   </td><td> 22.62 (3.44)   </td><td> 22.38 (3.24)  </td><td> 22.49 (3.21)  </td><td> 0.033</td><td></td><td> 0.505</td></tr>\n",
       "\t<tr><td>ALT (mean (SD))         </td><td>  86.30 (97.20)  </td><td> 49.04 (46.80)  </td><td> 62.04 (61.26) </td><td> 45.93 (32.12) </td><td> 0.270</td><td></td><td> 0.332</td></tr>\n",
       "\t<tr><td>AST (mean (SD))         </td><td>  34.60 (24.85)  </td><td> 27.08 (17.86)  </td><td> 34.47 (23.28) </td><td> 26.10 (13.76) </td><td> 0.145</td><td></td><td> 0.272</td></tr>\n",
       "\t<tr><td>AKI (mean (SD))         </td><td>   0.40 (0.52)   </td><td>  0.05 (0.22)   </td><td>  0.10 (0.31)  </td><td>  0.18 (0.39)  </td><td> 0.022</td><td></td><td> 0.484</td></tr>\n",
       "\t<tr><td>complication (mean (SD))</td><td>   0.40 (0.52)   </td><td>  0.38 (0.75)   </td><td>  0.41 (0.76)  </td><td>  0.75 (1.14)  </td><td> 0.159</td><td></td><td> 0.204</td></tr>\n",
       "\t<tr><td>GCs (mean (SD))         </td><td>   1.00 (0.00)   </td><td>  1.59 (0.60)   </td><td>  1.45 (0.61)  </td><td>  1.47 (0.57)  </td><td>   NaN</td><td></td><td> 0.675</td></tr>\n",
       "\t<tr><td><span style=white-space:pre-wrap>dose (mean (SD))        </span></td><td><span style=white-space:pre-wrap>  13.00 (2.58)   </span></td><td><span style=white-space:pre-wrap> 34.25 (24.67)  </span></td><td> 29.39 (23.94) </td><td> 30.54 (24.33) </td><td>&lt;0.001</td><td></td><td> 0.598</td></tr>\n",
       "\t<tr><td><span style=white-space:pre-wrap>PT (mean (SD))          </span></td><td><span style=white-space:pre-wrap>  12.03 (2.29)   </span></td><td><span style=white-space:pre-wrap> 12.19 (11.46)  </span></td><td> 31.74 (42.35) </td><td> 35.35 (44.92) </td><td>&lt;0.001</td><td></td><td> 0.472</td></tr>\n",
       "\t<tr><td>APTT (mean (SD))        </td><td>  27.36 (10.12)  </td><td> 25.59 (11.90)  </td><td> 32.08 (30.96) </td><td> 38.07 (40.35) </td><td> 0.080</td><td></td><td> 0.265</td></tr>\n",
       "\t<tr><td>fib (mean (SD))         </td><td>   1.96 (0.87)   </td><td>  2.70 (1.80)   </td><td>  1.92 (1.27)  </td><td>  1.94 (1.44)  </td><td> 0.002</td><td></td><td> 0.261</td></tr>\n",
       "\t<tr><td>DD (mean (SD))          </td><td>   3.06 (6.22)   </td><td>  0.92 (1.79)   </td><td>  8.34 (29.09) </td><td>  5.43 (18.46) </td><td> 0.074</td><td></td><td> 0.286</td></tr>\n",
       "\t<tr><td><span style=white-space:pre-wrap>PLT (mean (SD))         </span></td><td><span style=white-space:pre-wrap> 165.60 (79.53)  </span></td><td><span style=white-space:pre-wrap>197.03 (72.41)  </span></td><td>107.47 (71.69) </td><td>173.60 (71.84) </td><td>&lt;0.001</td><td></td><td> 0.629</td></tr>\n",
       "\t<tr><td>CK (mean (SD))          </td><td>1941.00 (3066.69)</td><td>652.00 (2706.40)</td><td>280.42 (627.94)</td><td>281.92 (489.07)</td><td> 0.139</td><td></td><td> 0.389</td></tr>\n",
       "\t<tr><td>CKMB (mean (SD))        </td><td> 340.71 (766.69) </td><td> 75.16 (186.40) </td><td> 31.93 (38.97) </td><td> 43.84 (112.07)</td><td> 0.032</td><td></td><td> 0.376</td></tr>\n",
       "\t<tr><td>Tn (mean (SD))          </td><td>   0.40 (0.75)   </td><td>  0.01 (0.01)   </td><td>  0.02 (0.03)  </td><td>  0.01 (0.02)  </td><td> 0.023</td><td></td><td> 0.522</td></tr>\n",
       "</tbody>\n",
       "</table>\n"
      ],
      "text/latex": [
       "A data.frame: 23 × 8\n",
       "\\begin{tabular}{llllllll}\n",
       " n & 0 & 1 & 2 & 3 & p & test & SMD\\\\\n",
       " <chr> & <chr> & <chr> & <chr> & <chr> & <chr> & <chr> & <chr>\\\\\n",
       "\\hline\n",
       "\t n                        &      10           &    181           &     49          &     60          &        &  &       \\\\\n",
       "\t los\\_hos (mean (SD))      &   13.80 (13.63)   &  14.49 (9.37)    &  13.35 (7.77)   &  13.86 (9.58)   &  0.851 &  &  0.061\\\\\n",
       "\t serum (mean (SD))        &    0.00 (0.00)    &   1.00 (0.00)    &   2.00 (0.00)   &   3.00 (0.00)   &    NaN &  &    Inf\\\\\n",
       "\t TCM (mean (SD))          &    0.80 (0.42)    &   0.76 (0.43)    &   0.65 (0.48)   &   0.83 (0.38)   &  0.220 &  &  0.224\\\\\n",
       "\t gender (mean (SD))       &    1.50 (0.53)    &   1.47 (0.50)    &   1.29 (0.46)   &   1.45 (0.50)   &  0.126 &  &  0.226\\\\\n",
       "\t age (mean (SD))          &   56.50 (13.61)   &  49.67 (19.05)   &  59.33 (14.92)  &  59.67 (13.14)  & <0.001 &  &  0.341\\\\\n",
       "\t weight (mean (SD))       &   69.30 (10.21)   &  60.97 (13.19)   &  61.00 (10.52)  &  61.03 (11.18)  &  0.124 &  &  0.381\\\\\n",
       "\t hight (mean (SD))        &    1.65 (0.05)    &   1.63 (0.12)    &   1.65 (0.07)   &   1.64 (0.09)   &  0.651 &  &  0.096\\\\\n",
       "\t IBM (mean (SD))          &   25.48 (2.91)    &  22.62 (3.44)    &  22.38 (3.24)   &  22.49 (3.21)   &  0.033 &  &  0.505\\\\\n",
       "\t ALT (mean (SD))          &   86.30 (97.20)   &  49.04 (46.80)   &  62.04 (61.26)  &  45.93 (32.12)  &  0.270 &  &  0.332\\\\\n",
       "\t AST (mean (SD))          &   34.60 (24.85)   &  27.08 (17.86)   &  34.47 (23.28)  &  26.10 (13.76)  &  0.145 &  &  0.272\\\\\n",
       "\t AKI (mean (SD))          &    0.40 (0.52)    &   0.05 (0.22)    &   0.10 (0.31)   &   0.18 (0.39)   &  0.022 &  &  0.484\\\\\n",
       "\t complication (mean (SD)) &    0.40 (0.52)    &   0.38 (0.75)    &   0.41 (0.76)   &   0.75 (1.14)   &  0.159 &  &  0.204\\\\\n",
       "\t GCs (mean (SD))          &    1.00 (0.00)    &   1.59 (0.60)    &   1.45 (0.61)   &   1.47 (0.57)   &    NaN &  &  0.675\\\\\n",
       "\t dose (mean (SD))         &   13.00 (2.58)    &  34.25 (24.67)   &  29.39 (23.94)  &  30.54 (24.33)  & <0.001 &  &  0.598\\\\\n",
       "\t PT (mean (SD))           &   12.03 (2.29)    &  12.19 (11.46)   &  31.74 (42.35)  &  35.35 (44.92)  & <0.001 &  &  0.472\\\\\n",
       "\t APTT (mean (SD))         &   27.36 (10.12)   &  25.59 (11.90)   &  32.08 (30.96)  &  38.07 (40.35)  &  0.080 &  &  0.265\\\\\n",
       "\t fib (mean (SD))          &    1.96 (0.87)    &   2.70 (1.80)    &   1.92 (1.27)   &   1.94 (1.44)   &  0.002 &  &  0.261\\\\\n",
       "\t DD (mean (SD))           &    3.06 (6.22)    &   0.92 (1.79)    &   8.34 (29.09)  &   5.43 (18.46)  &  0.074 &  &  0.286\\\\\n",
       "\t PLT (mean (SD))          &  165.60 (79.53)   & 197.03 (72.41)   & 107.47 (71.69)  & 173.60 (71.84)  & <0.001 &  &  0.629\\\\\n",
       "\t CK (mean (SD))           & 1941.00 (3066.69) & 652.00 (2706.40) & 280.42 (627.94) & 281.92 (489.07) &  0.139 &  &  0.389\\\\\n",
       "\t CKMB (mean (SD))         &  340.71 (766.69)  &  75.16 (186.40)  &  31.93 (38.97)  &  43.84 (112.07) &  0.032 &  &  0.376\\\\\n",
       "\t Tn (mean (SD))           &    0.40 (0.75)    &   0.01 (0.01)    &   0.02 (0.03)   &   0.01 (0.02)   &  0.023 &  &  0.522\\\\\n",
       "\\end{tabular}\n"
      ],
      "text/markdown": [
       "\n",
       "A data.frame: 23 × 8\n",
       "\n",
       "| n &lt;chr&gt; | 0 &lt;chr&gt; | 1 &lt;chr&gt; | 2 &lt;chr&gt; | 3 &lt;chr&gt; | p &lt;chr&gt; | test &lt;chr&gt; | SMD &lt;chr&gt; |\n",
       "|---|---|---|---|---|---|---|---|\n",
       "| n                        |      10           |    181           |     49          |     60          | <!----> | <!----> | <!----> |\n",
       "| los_hos (mean (SD))      |   13.80 (13.63)   |  14.49 (9.37)    |  13.35 (7.77)   |  13.86 (9.58)   |  0.851 | <!----> |  0.061 |\n",
       "| serum (mean (SD))        |    0.00 (0.00)    |   1.00 (0.00)    |   2.00 (0.00)   |   3.00 (0.00)   |    NaN | <!----> |    Inf |\n",
       "| TCM (mean (SD))          |    0.80 (0.42)    |   0.76 (0.43)    |   0.65 (0.48)   |   0.83 (0.38)   |  0.220 | <!----> |  0.224 |\n",
       "| gender (mean (SD))       |    1.50 (0.53)    |   1.47 (0.50)    |   1.29 (0.46)   |   1.45 (0.50)   |  0.126 | <!----> |  0.226 |\n",
       "| age (mean (SD))          |   56.50 (13.61)   |  49.67 (19.05)   |  59.33 (14.92)  |  59.67 (13.14)  | &lt;0.001 | <!----> |  0.341 |\n",
       "| weight (mean (SD))       |   69.30 (10.21)   |  60.97 (13.19)   |  61.00 (10.52)  |  61.03 (11.18)  |  0.124 | <!----> |  0.381 |\n",
       "| hight (mean (SD))        |    1.65 (0.05)    |   1.63 (0.12)    |   1.65 (0.07)   |   1.64 (0.09)   |  0.651 | <!----> |  0.096 |\n",
       "| IBM (mean (SD))          |   25.48 (2.91)    |  22.62 (3.44)    |  22.38 (3.24)   |  22.49 (3.21)   |  0.033 | <!----> |  0.505 |\n",
       "| ALT (mean (SD))          |   86.30 (97.20)   |  49.04 (46.80)   |  62.04 (61.26)  |  45.93 (32.12)  |  0.270 | <!----> |  0.332 |\n",
       "| AST (mean (SD))          |   34.60 (24.85)   |  27.08 (17.86)   |  34.47 (23.28)  |  26.10 (13.76)  |  0.145 | <!----> |  0.272 |\n",
       "| AKI (mean (SD))          |    0.40 (0.52)    |   0.05 (0.22)    |   0.10 (0.31)   |   0.18 (0.39)   |  0.022 | <!----> |  0.484 |\n",
       "| complication (mean (SD)) |    0.40 (0.52)    |   0.38 (0.75)    |   0.41 (0.76)   |   0.75 (1.14)   |  0.159 | <!----> |  0.204 |\n",
       "| GCs (mean (SD))          |    1.00 (0.00)    |   1.59 (0.60)    |   1.45 (0.61)   |   1.47 (0.57)   |    NaN | <!----> |  0.675 |\n",
       "| dose (mean (SD))         |   13.00 (2.58)    |  34.25 (24.67)   |  29.39 (23.94)  |  30.54 (24.33)  | &lt;0.001 | <!----> |  0.598 |\n",
       "| PT (mean (SD))           |   12.03 (2.29)    |  12.19 (11.46)   |  31.74 (42.35)  |  35.35 (44.92)  | &lt;0.001 | <!----> |  0.472 |\n",
       "| APTT (mean (SD))         |   27.36 (10.12)   |  25.59 (11.90)   |  32.08 (30.96)  |  38.07 (40.35)  |  0.080 | <!----> |  0.265 |\n",
       "| fib (mean (SD))          |    1.96 (0.87)    |   2.70 (1.80)    |   1.92 (1.27)   |   1.94 (1.44)   |  0.002 | <!----> |  0.261 |\n",
       "| DD (mean (SD))           |    3.06 (6.22)    |   0.92 (1.79)    |   8.34 (29.09)  |   5.43 (18.46)  |  0.074 | <!----> |  0.286 |\n",
       "| PLT (mean (SD))          |  165.60 (79.53)   | 197.03 (72.41)   | 107.47 (71.69)  | 173.60 (71.84)  | &lt;0.001 | <!----> |  0.629 |\n",
       "| CK (mean (SD))           | 1941.00 (3066.69) | 652.00 (2706.40) | 280.42 (627.94) | 281.92 (489.07) |  0.139 | <!----> |  0.389 |\n",
       "| CKMB (mean (SD))         |  340.71 (766.69)  |  75.16 (186.40)  |  31.93 (38.97)  |  43.84 (112.07) |  0.032 | <!----> |  0.376 |\n",
       "| Tn (mean (SD))           |    0.40 (0.75)    |   0.01 (0.01)    |   0.02 (0.03)   |   0.01 (0.02)   |  0.023 | <!----> |  0.522 |\n",
       "\n"
      ],
      "text/plain": [
       "   n                        0                 1                2              \n",
       "1  n                             10              181               49         \n",
       "2  los_hos (mean (SD))        13.80 (13.63)    14.49 (9.37)     13.35 (7.77)  \n",
       "3  serum (mean (SD))           0.00 (0.00)      1.00 (0.00)      2.00 (0.00)  \n",
       "4  TCM (mean (SD))             0.80 (0.42)      0.76 (0.43)      0.65 (0.48)  \n",
       "5  gender (mean (SD))          1.50 (0.53)      1.47 (0.50)      1.29 (0.46)  \n",
       "6  age (mean (SD))            56.50 (13.61)    49.67 (19.05)    59.33 (14.92) \n",
       "7  weight (mean (SD))         69.30 (10.21)    60.97 (13.19)    61.00 (10.52) \n",
       "8  hight (mean (SD))           1.65 (0.05)      1.63 (0.12)      1.65 (0.07)  \n",
       "9  IBM (mean (SD))            25.48 (2.91)     22.62 (3.44)     22.38 (3.24)  \n",
       "10 ALT (mean (SD))            86.30 (97.20)    49.04 (46.80)    62.04 (61.26) \n",
       "11 AST (mean (SD))            34.60 (24.85)    27.08 (17.86)    34.47 (23.28) \n",
       "12 AKI (mean (SD))             0.40 (0.52)      0.05 (0.22)      0.10 (0.31)  \n",
       "13 complication (mean (SD))    0.40 (0.52)      0.38 (0.75)      0.41 (0.76)  \n",
       "14 GCs (mean (SD))             1.00 (0.00)      1.59 (0.60)      1.45 (0.61)  \n",
       "15 dose (mean (SD))           13.00 (2.58)     34.25 (24.67)    29.39 (23.94) \n",
       "16 PT (mean (SD))             12.03 (2.29)     12.19 (11.46)    31.74 (42.35) \n",
       "17 APTT (mean (SD))           27.36 (10.12)    25.59 (11.90)    32.08 (30.96) \n",
       "18 fib (mean (SD))             1.96 (0.87)      2.70 (1.80)      1.92 (1.27)  \n",
       "19 DD (mean (SD))              3.06 (6.22)      0.92 (1.79)      8.34 (29.09) \n",
       "20 PLT (mean (SD))           165.60 (79.53)   197.03 (72.41)   107.47 (71.69) \n",
       "21 CK (mean (SD))           1941.00 (3066.69) 652.00 (2706.40) 280.42 (627.94)\n",
       "22 CKMB (mean (SD))          340.71 (766.69)   75.16 (186.40)   31.93 (38.97) \n",
       "23 Tn (mean (SD))              0.40 (0.75)      0.01 (0.01)      0.02 (0.03)  \n",
       "   3               p      test SMD   \n",
       "1      60                            \n",
       "2   13.86 (9.58)    0.851       0.061\n",
       "3    3.00 (0.00)      NaN         Inf\n",
       "4    0.83 (0.38)    0.220       0.224\n",
       "5    1.45 (0.50)    0.126       0.226\n",
       "6   59.67 (13.14)  <0.001       0.341\n",
       "7   61.03 (11.18)   0.124       0.381\n",
       "8    1.64 (0.09)    0.651       0.096\n",
       "9   22.49 (3.21)    0.033       0.505\n",
       "10  45.93 (32.12)   0.270       0.332\n",
       "11  26.10 (13.76)   0.145       0.272\n",
       "12   0.18 (0.39)    0.022       0.484\n",
       "13   0.75 (1.14)    0.159       0.204\n",
       "14   1.47 (0.57)      NaN       0.675\n",
       "15  30.54 (24.33)  <0.001       0.598\n",
       "16  35.35 (44.92)  <0.001       0.472\n",
       "17  38.07 (40.35)   0.080       0.265\n",
       "18   1.94 (1.44)    0.002       0.261\n",
       "19   5.43 (18.46)   0.074       0.286\n",
       "20 173.60 (71.84)  <0.001       0.629\n",
       "21 281.92 (489.07)  0.139       0.389\n",
       "22  43.84 (112.07)  0.032       0.376\n",
       "23   0.01 (0.02)    0.023       0.522"
      ]
     },
     "metadata": {},
     "output_type": "display_data"
    }
   ],
   "source": [
    "capture.output(tab_df_serum <- tab_serum %>%\n",
    "               print(smd = TRUE) %>%\n",
    "               as.data.frame(stringsAsFactors = FALSE) %>%\n",
    "               tibble::rownames_to_column(var = \"n\") %>%\n",
    "               dplyr::select(n, everything())) %>% invisible\n",
    "\n",
    "tab_df_serum\n",
    "\n"
   ]
  },
  {
   "cell_type": "code",
   "execution_count": 13,
   "metadata": {
    "vscode": {
     "languageId": "r"
    }
   },
   "outputs": [],
   "source": [
    "data.table::fwrite(tab_df_serum, file.path(data_dir, \"tab_baseline_serum.csv\"), col.names = TRUE)"
   ]
  },
  {
   "cell_type": "markdown",
   "metadata": {},
   "source": [
    "## 以下是二组的住院中期的分析比较"
   ]
  },
  {
   "cell_type": "code",
   "execution_count": 17,
   "metadata": {
    "vscode": {
     "languageId": "r"
    }
   },
   "outputs": [],
   "source": [
    "subgroup2 <- as.data.frame(readxl::read_excel(file.path(data_dir, \"subgroup2.xlsx\")))"
   ]
  },
  {
   "cell_type": "code",
   "execution_count": 18,
   "metadata": {
    "vscode": {
     "languageId": "r"
    }
   },
   "outputs": [
    {
     "data": {
      "text/html": [
       "<style>\n",
       ".list-inline {list-style: none; margin:0; padding: 0}\n",
       ".list-inline>li {display: inline-block}\n",
       ".list-inline>li:not(:last-child)::after {content: \"\\00b7\"; padding: 0 .5ex}\n",
       "</style>\n",
       "<ol class=list-inline><li>'serum'</li><li>'TCM'</li><li>'hight'</li><li>'IBM'</li><li>'ALT'</li><li>'AST'</li><li>'AST1'</li><li>'AKI'</li><li>'complication'</li><li>'GCs'</li><li>'Accumulatedose'</li><li>'dose'</li><li>'doseday'</li><li>'los_hos'</li><li>'PT'</li><li>'APTT'</li><li>'fib'</li><li>'DD'</li><li>'PLT'</li><li>'CK'</li><li>'CKMB'</li><li>'Tn'</li></ol>\n"
      ],
      "text/latex": [
       "\\begin{enumerate*}\n",
       "\\item 'serum'\n",
       "\\item 'TCM'\n",
       "\\item 'hight'\n",
       "\\item 'IBM'\n",
       "\\item 'ALT'\n",
       "\\item 'AST'\n",
       "\\item 'AST1'\n",
       "\\item 'AKI'\n",
       "\\item 'complication'\n",
       "\\item 'GCs'\n",
       "\\item 'Accumulatedose'\n",
       "\\item 'dose'\n",
       "\\item 'doseday'\n",
       "\\item 'los\\_hos'\n",
       "\\item 'PT'\n",
       "\\item 'APTT'\n",
       "\\item 'fib'\n",
       "\\item 'DD'\n",
       "\\item 'PLT'\n",
       "\\item 'CK'\n",
       "\\item 'CKMB'\n",
       "\\item 'Tn'\n",
       "\\end{enumerate*}\n"
      ],
      "text/markdown": [
       "1. 'serum'\n",
       "2. 'TCM'\n",
       "3. 'hight'\n",
       "4. 'IBM'\n",
       "5. 'ALT'\n",
       "6. 'AST'\n",
       "7. 'AST1'\n",
       "8. 'AKI'\n",
       "9. 'complication'\n",
       "10. 'GCs'\n",
       "11. 'Accumulatedose'\n",
       "12. 'dose'\n",
       "13. 'doseday'\n",
       "14. 'los_hos'\n",
       "15. 'PT'\n",
       "16. 'APTT'\n",
       "17. 'fib'\n",
       "18. 'DD'\n",
       "19. 'PLT'\n",
       "20. 'CK'\n",
       "21. 'CKMB'\n",
       "22. 'Tn'\n",
       "\n",
       "\n"
      ],
      "text/plain": [
       " [1] \"serum\"          \"TCM\"            \"hight\"          \"IBM\"           \n",
       " [5] \"ALT\"            \"AST\"            \"AST1\"           \"AKI\"           \n",
       " [9] \"complication\"   \"GCs\"            \"Accumulatedose\" \"dose\"          \n",
       "[13] \"doseday\"        \"los_hos\"        \"PT\"             \"APTT\"          \n",
       "[17] \"fib\"            \"DD\"             \"PLT\"            \"CK\"            \n",
       "[21] \"CKMB\"           \"Tn\"            "
      ]
     },
     "metadata": {},
     "output_type": "display_data"
    }
   ],
   "source": [
    "colnames(subgroup2)"
   ]
  },
  {
   "cell_type": "code",
   "execution_count": 19,
   "metadata": {
    "vscode": {
     "languageId": "r"
    }
   },
   "outputs": [],
   "source": [
    "features <- c(\"los_hos\", \"serum\", \"TCM\", \"gender\", \"age\", \"weight\", \"hight\", \"IBM\", \n",
    "              \"ALT\", \"AST\", \"AKI\", \"complication\", \"GCs\", \"dose\",\"PT\", \"APTT\",\n",
    "              \"fib\", \"DD\", \"PLT\", \"CK\", \"CKMB\", \"Tn\")"
   ]
  },
  {
   "cell_type": "code",
   "execution_count": 20,
   "metadata": {
    "vscode": {
     "languageId": "r"
    }
   },
   "outputs": [
    {
     "name": "stderr",
     "output_type": "stream",
     "text": [
      "Warning message in ModuleReturnVarsExist(vars, data):\n",
      "\"The data frame does not have: gender age weight  Dropped\"\n"
     ]
    }
   ],
   "source": [
    "tab_subgroup2 <- CreateTableOne(vars = features,\n",
    "                      strata = \"TCM\",\n",
    "                      data = subgroup2,\n",
    "                      argsNormal = list(var.equal = FALSE))\n"
   ]
  },
  {
   "cell_type": "code",
   "execution_count": 21,
   "metadata": {
    "vscode": {
     "languageId": "r"
    }
   },
   "outputs": [
    {
     "data": {
      "text/html": [
       "<table class=\"dataframe\">\n",
       "<caption>A data.frame: 20 × 6</caption>\n",
       "<thead>\n",
       "\t<tr><th scope=col>n</th><th scope=col>0</th><th scope=col>1</th><th scope=col>p</th><th scope=col>test</th><th scope=col>SMD</th></tr>\n",
       "\t<tr><th scope=col>&lt;chr&gt;</th><th scope=col>&lt;chr&gt;</th><th scope=col>&lt;chr&gt;</th><th scope=col>&lt;chr&gt;</th><th scope=col>&lt;chr&gt;</th><th scope=col>&lt;chr&gt;</th></tr>\n",
       "</thead>\n",
       "<tbody>\n",
       "\t<tr><td>n                       </td><td>    73          </td><td>   227         </td><td>      </td><td></td><td>      </td></tr>\n",
       "\t<tr><td><span style=white-space:pre-wrap>los_hos (mean (SD))     </span></td><td><span style=white-space:pre-wrap>  8.16 (2.03)   </span></td><td><span style=white-space:pre-wrap>  6.00 (1.40)  </span></td><td>&lt;0.001</td><td></td><td> 1.242</td></tr>\n",
       "\t<tr><td>serum (mean (SD))       </td><td>  1.48 (0.77)   </td><td>  1.55 (0.87)  </td><td> 0.532</td><td></td><td> 0.081</td></tr>\n",
       "\t<tr><td>TCM (mean (SD))         </td><td>  0.00 (0.00)   </td><td>  1.00 (0.00)  </td><td>   NaN</td><td></td><td>   Inf</td></tr>\n",
       "\t<tr><td>hight (mean (SD))       </td><td>  1.64 (0.11)   </td><td>  1.64 (0.11)  </td><td> 0.882</td><td></td><td> 0.020</td></tr>\n",
       "\t<tr><td>IBM (mean (SD))         </td><td> 22.78 (3.00)   </td><td> 22.61 (3.49)  </td><td> 0.673</td><td></td><td> 0.055</td></tr>\n",
       "\t<tr><td>ALT (mean (SD))         </td><td> 66.77 (66.51)  </td><td> 46.97 (42.10) </td><td> 0.019</td><td></td><td> 0.356</td></tr>\n",
       "\t<tr><td>AST (mean (SD))         </td><td> 31.23 (20.58)  </td><td> 27.41 (17.81) </td><td> 0.157</td><td></td><td> 0.198</td></tr>\n",
       "\t<tr><td>AKI (mean (SD))         </td><td>  0.12 (0.33)   </td><td>  0.09 (0.28)  </td><td> 0.422</td><td></td><td> 0.113</td></tr>\n",
       "\t<tr><td>complication (mean (SD))</td><td>  0.51 (0.82)   </td><td>  0.44 (0.86)  </td><td> 0.553</td><td></td><td> 0.079</td></tr>\n",
       "\t<tr><td>GCs (mean (SD))         </td><td>  1.45 (0.53)   </td><td>  1.54 (0.61)  </td><td> 0.227</td><td></td><td> 0.157</td></tr>\n",
       "\t<tr><td>dose (mean (SD))        </td><td> 31.40 (24.35)  </td><td> 32.20 (24.38) </td><td> 0.808</td><td></td><td> 0.033</td></tr>\n",
       "\t<tr><td>PT (mean (SD))          </td><td>  4.23 (28.19)  </td><td> -4.46 (27.11) </td><td> 0.022</td><td></td><td> 0.314</td></tr>\n",
       "\t<tr><td>APTT (mean (SD))        </td><td>  3.13 (26.53)  </td><td> -4.73 (28.85) </td><td> 0.033</td><td></td><td> 0.284</td></tr>\n",
       "\t<tr><td>fib (mean (SD))         </td><td>  0.19 (1.43)   </td><td> -0.01 (1.83)  </td><td> 0.345</td><td></td><td> 0.119</td></tr>\n",
       "\t<tr><td>DD (mean (SD))          </td><td> -1.69 (15.66)  </td><td> -1.35 (13.60) </td><td> 0.868</td><td></td><td> 0.023</td></tr>\n",
       "\t<tr><td>PLT (mean (SD))         </td><td>  7.99 (51.95)  </td><td>  0.80 (44.71) </td><td> 0.291</td><td></td><td> 0.148</td></tr>\n",
       "\t<tr><td>CK (mean (SD))          </td><td> -5.79 (1051.44)</td><td> -4.73 (993.28)</td><td> 0.994</td><td></td><td> 0.001</td></tr>\n",
       "\t<tr><td>CKMB (mean (SD))        </td><td>-23.49 (90.31)  </td><td>-24.46 (105.50)</td><td> 0.939</td><td></td><td> 0.010</td></tr>\n",
       "\t<tr><td>Tn (mean (SD))          </td><td> -0.01 (0.03)   </td><td> -0.01 (0.09)  </td><td> 0.425</td><td></td><td> 0.082</td></tr>\n",
       "</tbody>\n",
       "</table>\n"
      ],
      "text/latex": [
       "A data.frame: 20 × 6\n",
       "\\begin{tabular}{llllll}\n",
       " n & 0 & 1 & p & test & SMD\\\\\n",
       " <chr> & <chr> & <chr> & <chr> & <chr> & <chr>\\\\\n",
       "\\hline\n",
       "\t n                        &     73           &    227          &        &  &       \\\\\n",
       "\t los\\_hos (mean (SD))      &   8.16 (2.03)    &   6.00 (1.40)   & <0.001 &  &  1.242\\\\\n",
       "\t serum (mean (SD))        &   1.48 (0.77)    &   1.55 (0.87)   &  0.532 &  &  0.081\\\\\n",
       "\t TCM (mean (SD))          &   0.00 (0.00)    &   1.00 (0.00)   &    NaN &  &    Inf\\\\\n",
       "\t hight (mean (SD))        &   1.64 (0.11)    &   1.64 (0.11)   &  0.882 &  &  0.020\\\\\n",
       "\t IBM (mean (SD))          &  22.78 (3.00)    &  22.61 (3.49)   &  0.673 &  &  0.055\\\\\n",
       "\t ALT (mean (SD))          &  66.77 (66.51)   &  46.97 (42.10)  &  0.019 &  &  0.356\\\\\n",
       "\t AST (mean (SD))          &  31.23 (20.58)   &  27.41 (17.81)  &  0.157 &  &  0.198\\\\\n",
       "\t AKI (mean (SD))          &   0.12 (0.33)    &   0.09 (0.28)   &  0.422 &  &  0.113\\\\\n",
       "\t complication (mean (SD)) &   0.51 (0.82)    &   0.44 (0.86)   &  0.553 &  &  0.079\\\\\n",
       "\t GCs (mean (SD))          &   1.45 (0.53)    &   1.54 (0.61)   &  0.227 &  &  0.157\\\\\n",
       "\t dose (mean (SD))         &  31.40 (24.35)   &  32.20 (24.38)  &  0.808 &  &  0.033\\\\\n",
       "\t PT (mean (SD))           &   4.23 (28.19)   &  -4.46 (27.11)  &  0.022 &  &  0.314\\\\\n",
       "\t APTT (mean (SD))         &   3.13 (26.53)   &  -4.73 (28.85)  &  0.033 &  &  0.284\\\\\n",
       "\t fib (mean (SD))          &   0.19 (1.43)    &  -0.01 (1.83)   &  0.345 &  &  0.119\\\\\n",
       "\t DD (mean (SD))           &  -1.69 (15.66)   &  -1.35 (13.60)  &  0.868 &  &  0.023\\\\\n",
       "\t PLT (mean (SD))          &   7.99 (51.95)   &   0.80 (44.71)  &  0.291 &  &  0.148\\\\\n",
       "\t CK (mean (SD))           &  -5.79 (1051.44) &  -4.73 (993.28) &  0.994 &  &  0.001\\\\\n",
       "\t CKMB (mean (SD))         & -23.49 (90.31)   & -24.46 (105.50) &  0.939 &  &  0.010\\\\\n",
       "\t Tn (mean (SD))           &  -0.01 (0.03)    &  -0.01 (0.09)   &  0.425 &  &  0.082\\\\\n",
       "\\end{tabular}\n"
      ],
      "text/markdown": [
       "\n",
       "A data.frame: 20 × 6\n",
       "\n",
       "| n &lt;chr&gt; | 0 &lt;chr&gt; | 1 &lt;chr&gt; | p &lt;chr&gt; | test &lt;chr&gt; | SMD &lt;chr&gt; |\n",
       "|---|---|---|---|---|---|\n",
       "| n                        |     73           |    227          | <!----> | <!----> | <!----> |\n",
       "| los_hos (mean (SD))      |   8.16 (2.03)    |   6.00 (1.40)   | &lt;0.001 | <!----> |  1.242 |\n",
       "| serum (mean (SD))        |   1.48 (0.77)    |   1.55 (0.87)   |  0.532 | <!----> |  0.081 |\n",
       "| TCM (mean (SD))          |   0.00 (0.00)    |   1.00 (0.00)   |    NaN | <!----> |    Inf |\n",
       "| hight (mean (SD))        |   1.64 (0.11)    |   1.64 (0.11)   |  0.882 | <!----> |  0.020 |\n",
       "| IBM (mean (SD))          |  22.78 (3.00)    |  22.61 (3.49)   |  0.673 | <!----> |  0.055 |\n",
       "| ALT (mean (SD))          |  66.77 (66.51)   |  46.97 (42.10)  |  0.019 | <!----> |  0.356 |\n",
       "| AST (mean (SD))          |  31.23 (20.58)   |  27.41 (17.81)  |  0.157 | <!----> |  0.198 |\n",
       "| AKI (mean (SD))          |   0.12 (0.33)    |   0.09 (0.28)   |  0.422 | <!----> |  0.113 |\n",
       "| complication (mean (SD)) |   0.51 (0.82)    |   0.44 (0.86)   |  0.553 | <!----> |  0.079 |\n",
       "| GCs (mean (SD))          |   1.45 (0.53)    |   1.54 (0.61)   |  0.227 | <!----> |  0.157 |\n",
       "| dose (mean (SD))         |  31.40 (24.35)   |  32.20 (24.38)  |  0.808 | <!----> |  0.033 |\n",
       "| PT (mean (SD))           |   4.23 (28.19)   |  -4.46 (27.11)  |  0.022 | <!----> |  0.314 |\n",
       "| APTT (mean (SD))         |   3.13 (26.53)   |  -4.73 (28.85)  |  0.033 | <!----> |  0.284 |\n",
       "| fib (mean (SD))          |   0.19 (1.43)    |  -0.01 (1.83)   |  0.345 | <!----> |  0.119 |\n",
       "| DD (mean (SD))           |  -1.69 (15.66)   |  -1.35 (13.60)  |  0.868 | <!----> |  0.023 |\n",
       "| PLT (mean (SD))          |   7.99 (51.95)   |   0.80 (44.71)  |  0.291 | <!----> |  0.148 |\n",
       "| CK (mean (SD))           |  -5.79 (1051.44) |  -4.73 (993.28) |  0.994 | <!----> |  0.001 |\n",
       "| CKMB (mean (SD))         | -23.49 (90.31)   | -24.46 (105.50) |  0.939 | <!----> |  0.010 |\n",
       "| Tn (mean (SD))           |  -0.01 (0.03)    |  -0.01 (0.09)   |  0.425 | <!----> |  0.082 |\n",
       "\n"
      ],
      "text/plain": [
       "   n                        0                1               p      test SMD   \n",
       "1  n                            73              227                            \n",
       "2  los_hos (mean (SD))        8.16 (2.03)      6.00 (1.40)   <0.001       1.242\n",
       "3  serum (mean (SD))          1.48 (0.77)      1.55 (0.87)    0.532       0.081\n",
       "4  TCM (mean (SD))            0.00 (0.00)      1.00 (0.00)      NaN         Inf\n",
       "5  hight (mean (SD))          1.64 (0.11)      1.64 (0.11)    0.882       0.020\n",
       "6  IBM (mean (SD))           22.78 (3.00)     22.61 (3.49)    0.673       0.055\n",
       "7  ALT (mean (SD))           66.77 (66.51)    46.97 (42.10)   0.019       0.356\n",
       "8  AST (mean (SD))           31.23 (20.58)    27.41 (17.81)   0.157       0.198\n",
       "9  AKI (mean (SD))            0.12 (0.33)      0.09 (0.28)    0.422       0.113\n",
       "10 complication (mean (SD))   0.51 (0.82)      0.44 (0.86)    0.553       0.079\n",
       "11 GCs (mean (SD))            1.45 (0.53)      1.54 (0.61)    0.227       0.157\n",
       "12 dose (mean (SD))          31.40 (24.35)    32.20 (24.38)   0.808       0.033\n",
       "13 PT (mean (SD))             4.23 (28.19)    -4.46 (27.11)   0.022       0.314\n",
       "14 APTT (mean (SD))           3.13 (26.53)    -4.73 (28.85)   0.033       0.284\n",
       "15 fib (mean (SD))            0.19 (1.43)     -0.01 (1.83)    0.345       0.119\n",
       "16 DD (mean (SD))            -1.69 (15.66)    -1.35 (13.60)   0.868       0.023\n",
       "17 PLT (mean (SD))            7.99 (51.95)     0.80 (44.71)   0.291       0.148\n",
       "18 CK (mean (SD))            -5.79 (1051.44)  -4.73 (993.28)  0.994       0.001\n",
       "19 CKMB (mean (SD))         -23.49 (90.31)   -24.46 (105.50)  0.939       0.010\n",
       "20 Tn (mean (SD))            -0.01 (0.03)     -0.01 (0.09)    0.425       0.082"
      ]
     },
     "metadata": {},
     "output_type": "display_data"
    }
   ],
   "source": [
    "capture.output(tab_df_subgroup2 <- tab_subgroup2 %>%\n",
    "               print(smd = TRUE) %>%\n",
    "               as.data.frame(stringsAsFactors = FALSE) %>%\n",
    "               tibble::rownames_to_column(var = \"n\") %>%\n",
    "               dplyr::select(n, everything())) %>% invisible\n",
    "\n",
    "tab_df_subgroup2\n"
   ]
  },
  {
   "cell_type": "code",
   "execution_count": 22,
   "metadata": {
    "vscode": {
     "languageId": "r"
    }
   },
   "outputs": [],
   "source": [
    "data.table::fwrite(tab_df_subgroup2, file.path(data_dir, \"tab_subgroup2.csv\"), col.names = TRUE)"
   ]
  },
  {
   "cell_type": "markdown",
   "metadata": {},
   "source": [
    "## 以下是二组第三阶段的分析"
   ]
  },
  {
   "cell_type": "code",
   "execution_count": 24,
   "metadata": {
    "vscode": {
     "languageId": "r"
    }
   },
   "outputs": [],
   "source": [
    "subgroup3 <- as.data.frame(readxl::read_excel(file.path(data_dir, \"subgroup3.xlsx\")))\n"
   ]
  },
  {
   "cell_type": "code",
   "execution_count": 25,
   "metadata": {
    "vscode": {
     "languageId": "r"
    }
   },
   "outputs": [],
   "source": [
    "features <- c(\"los_hos\", \"serum\", \"group\", \"gender\", \"age\", \"weight\", \"hight\", \"IBM\", \n",
    "              \"ALT\", \"AST\", \"AKI\", \"complication\", \"GCs\", \"dose\",\"Accumulatedose\", \"PT\", \"APTT\",\n",
    "              \"fib\", \"DD\", \"PLT\", \"CK\", \"CKMB\", \"Tn\")"
   ]
  },
  {
   "cell_type": "code",
   "execution_count": 26,
   "metadata": {
    "vscode": {
     "languageId": "r"
    }
   },
   "outputs": [
    {
     "name": "stderr",
     "output_type": "stream",
     "text": [
      "Warning message in ModuleReturnVarsExist(vars, data):\n",
      "\"The data frame does not have: group gender age weight  Dropped\"\n"
     ]
    }
   ],
   "source": [
    "tab_subgroup3 <- CreateTableOne(vars = features,\n",
    "                      strata = \"TCM\",\n",
    "                      data = subgroup3,\n",
    "                      argsNormal = list(var.equal = FALSE))"
   ]
  },
  {
   "cell_type": "code",
   "execution_count": 27,
   "metadata": {
    "vscode": {
     "languageId": "r"
    }
   },
   "outputs": [
    {
     "data": {
      "text/html": [
       "<table class=\"dataframe\">\n",
       "<caption>A data.frame: 20 × 6</caption>\n",
       "<thead>\n",
       "\t<tr><th scope=col>n</th><th scope=col>0</th><th scope=col>1</th><th scope=col>p</th><th scope=col>test</th><th scope=col>SMD</th></tr>\n",
       "\t<tr><th scope=col>&lt;chr&gt;</th><th scope=col>&lt;chr&gt;</th><th scope=col>&lt;chr&gt;</th><th scope=col>&lt;chr&gt;</th><th scope=col>&lt;chr&gt;</th><th scope=col>&lt;chr&gt;</th></tr>\n",
       "</thead>\n",
       "<tbody>\n",
       "\t<tr><td>n                         </td><td>     73          </td><td>    227          </td><td>      </td><td></td><td>      </td></tr>\n",
       "\t<tr><td><span style=white-space:pre-wrap>los_hos (mean (SD))       </span></td><td><span style=white-space:pre-wrap>   8.16 (2.03)   </span></td><td><span style=white-space:pre-wrap>   6.00 (1.40)   </span></td><td>&lt;0.001</td><td></td><td> 1.242</td></tr>\n",
       "\t<tr><td>serum (mean (SD))         </td><td>   1.48 (0.77)   </td><td>   1.55 (0.87)   </td><td> 0.532</td><td></td><td> 0.081</td></tr>\n",
       "\t<tr><td>hight (mean (SD))         </td><td>   1.64 (0.11)   </td><td>   1.64 (0.11)   </td><td> 0.882</td><td></td><td> 0.020</td></tr>\n",
       "\t<tr><td>IBM (mean (SD))           </td><td>  22.78 (3.00)   </td><td>  22.61 (3.49)   </td><td> 0.673</td><td></td><td> 0.055</td></tr>\n",
       "\t<tr><td>ALT (mean (SD))           </td><td>  66.77 (66.51)  </td><td>  46.97 (42.10)  </td><td> 0.019</td><td></td><td> 0.356</td></tr>\n",
       "\t<tr><td>AST (mean (SD))           </td><td>  31.23 (20.58)  </td><td>  27.41 (17.81)  </td><td> 0.157</td><td></td><td> 0.198</td></tr>\n",
       "\t<tr><td>AKI (mean (SD))           </td><td>   0.12 (0.33)   </td><td>   0.09 (0.28)   </td><td> 0.422</td><td></td><td> 0.113</td></tr>\n",
       "\t<tr><td>complication (mean (SD))  </td><td>   0.51 (0.82)   </td><td>   0.44 (0.86)   </td><td> 0.553</td><td></td><td> 0.079</td></tr>\n",
       "\t<tr><td>GCs (mean (SD))           </td><td>   1.45 (0.53)   </td><td>   1.54 (0.61)   </td><td> 0.227</td><td></td><td> 0.157</td></tr>\n",
       "\t<tr><td>dose (mean (SD))          </td><td>  31.40 (24.35)  </td><td>  32.20 (24.38)  </td><td> 0.808</td><td></td><td> 0.033</td></tr>\n",
       "\t<tr><td>Accumulatedose (mean (SD))</td><td> 238.08 (189.84) </td><td> 184.94 (146.51) </td><td> 0.031</td><td></td><td> 0.313</td></tr>\n",
       "\t<tr><td>PT (mean (SD))            </td><td>  -3.85 (17.99)  </td><td> -10.55 (33.97)  </td><td> 0.031</td><td></td><td> 0.247</td></tr>\n",
       "\t<tr><td>APTT (mean (SD))          </td><td>  -2.41 (3.08)   </td><td>  -7.96 (27.45)  </td><td> 0.003</td><td></td><td> 0.284</td></tr>\n",
       "\t<tr><td>fib (mean (SD))           </td><td>  -0.26 (1.45)   </td><td>  -0.08 (1.84)   </td><td> 0.397</td><td></td><td> 0.107</td></tr>\n",
       "\t<tr><td>DD (mean (SD))            </td><td>  -2.29 (16.75)  </td><td>  -1.96 (14.05)  </td><td> 0.881</td><td></td><td> 0.021</td></tr>\n",
       "\t<tr><td>PLT (mean (SD))           </td><td>  32.77 (77.72)  </td><td>  17.00 (56.41)  </td><td> 0.112</td><td></td><td> 0.232</td></tr>\n",
       "\t<tr><td>CK (mean (SD))            </td><td>-638.78 (2292.71)</td><td>-432.42 (2180.57)</td><td> 0.500</td><td></td><td> 0.092</td></tr>\n",
       "\t<tr><td>CKMB (mean (SD))          </td><td> -41.97 (135.04) </td><td> -57.60 (227.19) </td><td> 0.475</td><td></td><td> 0.084</td></tr>\n",
       "\t<tr><td>Tn (mean (SD))            </td><td>  -0.01 (0.03)   </td><td>  -0.03 (0.17)   </td><td> 0.225</td><td></td><td> 0.117</td></tr>\n",
       "</tbody>\n",
       "</table>\n"
      ],
      "text/latex": [
       "A data.frame: 20 × 6\n",
       "\\begin{tabular}{llllll}\n",
       " n & 0 & 1 & p & test & SMD\\\\\n",
       " <chr> & <chr> & <chr> & <chr> & <chr> & <chr>\\\\\n",
       "\\hline\n",
       "\t n                          &      73           &     227           &        &  &       \\\\\n",
       "\t los\\_hos (mean (SD))        &    8.16 (2.03)    &    6.00 (1.40)    & <0.001 &  &  1.242\\\\\n",
       "\t serum (mean (SD))          &    1.48 (0.77)    &    1.55 (0.87)    &  0.532 &  &  0.081\\\\\n",
       "\t hight (mean (SD))          &    1.64 (0.11)    &    1.64 (0.11)    &  0.882 &  &  0.020\\\\\n",
       "\t IBM (mean (SD))            &   22.78 (3.00)    &   22.61 (3.49)    &  0.673 &  &  0.055\\\\\n",
       "\t ALT (mean (SD))            &   66.77 (66.51)   &   46.97 (42.10)   &  0.019 &  &  0.356\\\\\n",
       "\t AST (mean (SD))            &   31.23 (20.58)   &   27.41 (17.81)   &  0.157 &  &  0.198\\\\\n",
       "\t AKI (mean (SD))            &    0.12 (0.33)    &    0.09 (0.28)    &  0.422 &  &  0.113\\\\\n",
       "\t complication (mean (SD))   &    0.51 (0.82)    &    0.44 (0.86)    &  0.553 &  &  0.079\\\\\n",
       "\t GCs (mean (SD))            &    1.45 (0.53)    &    1.54 (0.61)    &  0.227 &  &  0.157\\\\\n",
       "\t dose (mean (SD))           &   31.40 (24.35)   &   32.20 (24.38)   &  0.808 &  &  0.033\\\\\n",
       "\t Accumulatedose (mean (SD)) &  238.08 (189.84)  &  184.94 (146.51)  &  0.031 &  &  0.313\\\\\n",
       "\t PT (mean (SD))             &   -3.85 (17.99)   &  -10.55 (33.97)   &  0.031 &  &  0.247\\\\\n",
       "\t APTT (mean (SD))           &   -2.41 (3.08)    &   -7.96 (27.45)   &  0.003 &  &  0.284\\\\\n",
       "\t fib (mean (SD))            &   -0.26 (1.45)    &   -0.08 (1.84)    &  0.397 &  &  0.107\\\\\n",
       "\t DD (mean (SD))             &   -2.29 (16.75)   &   -1.96 (14.05)   &  0.881 &  &  0.021\\\\\n",
       "\t PLT (mean (SD))            &   32.77 (77.72)   &   17.00 (56.41)   &  0.112 &  &  0.232\\\\\n",
       "\t CK (mean (SD))             & -638.78 (2292.71) & -432.42 (2180.57) &  0.500 &  &  0.092\\\\\n",
       "\t CKMB (mean (SD))           &  -41.97 (135.04)  &  -57.60 (227.19)  &  0.475 &  &  0.084\\\\\n",
       "\t Tn (mean (SD))             &   -0.01 (0.03)    &   -0.03 (0.17)    &  0.225 &  &  0.117\\\\\n",
       "\\end{tabular}\n"
      ],
      "text/markdown": [
       "\n",
       "A data.frame: 20 × 6\n",
       "\n",
       "| n &lt;chr&gt; | 0 &lt;chr&gt; | 1 &lt;chr&gt; | p &lt;chr&gt; | test &lt;chr&gt; | SMD &lt;chr&gt; |\n",
       "|---|---|---|---|---|---|\n",
       "| n                          |      73           |     227           | <!----> | <!----> | <!----> |\n",
       "| los_hos (mean (SD))        |    8.16 (2.03)    |    6.00 (1.40)    | &lt;0.001 | <!----> |  1.242 |\n",
       "| serum (mean (SD))          |    1.48 (0.77)    |    1.55 (0.87)    |  0.532 | <!----> |  0.081 |\n",
       "| hight (mean (SD))          |    1.64 (0.11)    |    1.64 (0.11)    |  0.882 | <!----> |  0.020 |\n",
       "| IBM (mean (SD))            |   22.78 (3.00)    |   22.61 (3.49)    |  0.673 | <!----> |  0.055 |\n",
       "| ALT (mean (SD))            |   66.77 (66.51)   |   46.97 (42.10)   |  0.019 | <!----> |  0.356 |\n",
       "| AST (mean (SD))            |   31.23 (20.58)   |   27.41 (17.81)   |  0.157 | <!----> |  0.198 |\n",
       "| AKI (mean (SD))            |    0.12 (0.33)    |    0.09 (0.28)    |  0.422 | <!----> |  0.113 |\n",
       "| complication (mean (SD))   |    0.51 (0.82)    |    0.44 (0.86)    |  0.553 | <!----> |  0.079 |\n",
       "| GCs (mean (SD))            |    1.45 (0.53)    |    1.54 (0.61)    |  0.227 | <!----> |  0.157 |\n",
       "| dose (mean (SD))           |   31.40 (24.35)   |   32.20 (24.38)   |  0.808 | <!----> |  0.033 |\n",
       "| Accumulatedose (mean (SD)) |  238.08 (189.84)  |  184.94 (146.51)  |  0.031 | <!----> |  0.313 |\n",
       "| PT (mean (SD))             |   -3.85 (17.99)   |  -10.55 (33.97)   |  0.031 | <!----> |  0.247 |\n",
       "| APTT (mean (SD))           |   -2.41 (3.08)    |   -7.96 (27.45)   |  0.003 | <!----> |  0.284 |\n",
       "| fib (mean (SD))            |   -0.26 (1.45)    |   -0.08 (1.84)    |  0.397 | <!----> |  0.107 |\n",
       "| DD (mean (SD))             |   -2.29 (16.75)   |   -1.96 (14.05)   |  0.881 | <!----> |  0.021 |\n",
       "| PLT (mean (SD))            |   32.77 (77.72)   |   17.00 (56.41)   |  0.112 | <!----> |  0.232 |\n",
       "| CK (mean (SD))             | -638.78 (2292.71) | -432.42 (2180.57) |  0.500 | <!----> |  0.092 |\n",
       "| CKMB (mean (SD))           |  -41.97 (135.04)  |  -57.60 (227.19)  |  0.475 | <!----> |  0.084 |\n",
       "| Tn (mean (SD))             |   -0.01 (0.03)    |   -0.03 (0.17)    |  0.225 | <!----> |  0.117 |\n",
       "\n"
      ],
      "text/plain": [
       "   n                          0                 1                 p      test\n",
       "1  n                               73               227                      \n",
       "2  los_hos (mean (SD))           8.16 (2.03)       6.00 (1.40)    <0.001     \n",
       "3  serum (mean (SD))             1.48 (0.77)       1.55 (0.87)     0.532     \n",
       "4  hight (mean (SD))             1.64 (0.11)       1.64 (0.11)     0.882     \n",
       "5  IBM (mean (SD))              22.78 (3.00)      22.61 (3.49)     0.673     \n",
       "6  ALT (mean (SD))              66.77 (66.51)     46.97 (42.10)    0.019     \n",
       "7  AST (mean (SD))              31.23 (20.58)     27.41 (17.81)    0.157     \n",
       "8  AKI (mean (SD))               0.12 (0.33)       0.09 (0.28)     0.422     \n",
       "9  complication (mean (SD))      0.51 (0.82)       0.44 (0.86)     0.553     \n",
       "10 GCs (mean (SD))               1.45 (0.53)       1.54 (0.61)     0.227     \n",
       "11 dose (mean (SD))             31.40 (24.35)     32.20 (24.38)    0.808     \n",
       "12 Accumulatedose (mean (SD))  238.08 (189.84)   184.94 (146.51)   0.031     \n",
       "13 PT (mean (SD))               -3.85 (17.99)    -10.55 (33.97)    0.031     \n",
       "14 APTT (mean (SD))             -2.41 (3.08)      -7.96 (27.45)    0.003     \n",
       "15 fib (mean (SD))              -0.26 (1.45)      -0.08 (1.84)     0.397     \n",
       "16 DD (mean (SD))               -2.29 (16.75)     -1.96 (14.05)    0.881     \n",
       "17 PLT (mean (SD))              32.77 (77.72)     17.00 (56.41)    0.112     \n",
       "18 CK (mean (SD))             -638.78 (2292.71) -432.42 (2180.57)  0.500     \n",
       "19 CKMB (mean (SD))            -41.97 (135.04)   -57.60 (227.19)   0.475     \n",
       "20 Tn (mean (SD))               -0.01 (0.03)      -0.03 (0.17)     0.225     \n",
       "   SMD   \n",
       "1        \n",
       "2   1.242\n",
       "3   0.081\n",
       "4   0.020\n",
       "5   0.055\n",
       "6   0.356\n",
       "7   0.198\n",
       "8   0.113\n",
       "9   0.079\n",
       "10  0.157\n",
       "11  0.033\n",
       "12  0.313\n",
       "13  0.247\n",
       "14  0.284\n",
       "15  0.107\n",
       "16  0.021\n",
       "17  0.232\n",
       "18  0.092\n",
       "19  0.084\n",
       "20  0.117"
      ]
     },
     "metadata": {},
     "output_type": "display_data"
    }
   ],
   "source": [
    "capture.output(tab_df_subgroup3 <- tab_subgroup3 %>%\n",
    "               print(smd = TRUE) %>%\n",
    "               as.data.frame(stringsAsFactors = FALSE) %>%\n",
    "               tibble::rownames_to_column(var = \"n\") %>%\n",
    "               dplyr::select(n, everything())) %>% invisible\n",
    "\n",
    "tab_df_subgroup3"
   ]
  },
  {
   "cell_type": "markdown",
   "metadata": {},
   "source": [
    "## 以下是对第三次阶段的数据进行差值分析"
   ]
  },
  {
   "cell_type": "code",
   "execution_count": 28,
   "metadata": {
    "vscode": {
     "languageId": "r"
    }
   },
   "outputs": [],
   "source": [
    "subgroup2 <- as.data.frame(readxl::read_excel(file.path(data_dir, \"subgroup2.xlsx\")))"
   ]
  },
  {
   "cell_type": "code",
   "execution_count": 29,
   "metadata": {
    "vscode": {
     "languageId": "r"
    }
   },
   "outputs": [
    {
     "name": "stdout",
     "output_type": "stream",
     "text": [
      "                                                                              \n",
      "1                       \"Variables\"     \"Total (n = 300)\"         \"0 (n = 73)\"\n",
      "2                    \"serum, n (%)\"                    \"\"                   \"\"\n",
      "3                             \"  0\"              \"10 (3)\"              \"2 (3)\"\n",
      "4                             \"  1\"            \"181 (60)\"            \"44 (60)\"\n",
      "5                             \"  2\"             \"49 (16)\"            \"17 (23)\"\n",
      "6                             \"  3\"             \"60 (20)\"            \"10 (14)\"\n",
      "7           \"hight, Median (Q1,Q3)\"     \"1.65 (1.6, 1.7)\"    \"1.65 (1.6, 1.7)\"\n",
      "8                  \"IBM, Mean ± SD\"        \"22.65 ± 3.38\"          \"22.78 ± 3\"\n",
      "9             \"ALT, Median (Q1,Q3)\"      \"36 (23, 63.25)\"        \"42 (25, 77)\"\n",
      "10            \"AST, Median (Q1,Q3)\"         \"23 (16, 35)\"        \"25 (17, 37)\"\n",
      "11           \"AST1, Median (Q1,Q3)\"         \"26 (21, 39)\"        \"25 (20, 33)\"\n",
      "12                     \"AKI, n (%)\"                    \"\"                   \"\"\n",
      "13                            \"  0\"            \"270 (90)\"            \"64 (88)\"\n",
      "14                            \"  1\"             \"29 (10)\"             \"9 (12)\"\n",
      "15            \"complication, n (%)\"                    \"\"                   \"\"\n",
      "16                            \"  0\"            \"206 (69)\"            \"45 (62)\"\n",
      "17                            \"  1\"             \"70 (23)\"            \"23 (32)\"\n",
      "18                            \"  2\"              \"14 (5)\"              \"3 (4)\"\n",
      "19                            \"  3\"               \"1 (0)\"              \"0 (0)\"\n",
      "20                            \"  4\"               \"9 (3)\"              \"2 (3)\"\n",
      "21                     \"GCs, n (%)\"                    \"\"                   \"\"\n",
      "22                            \"  1\"            \"159 (53)\"            \"41 (56)\"\n",
      "23                            \"  2\"            \"126 (42)\"            \"31 (42)\"\n",
      "24                            \"  3\"              \"15 (5)\"              \"1 (1)\"\n",
      "25 \"Accumulatedose, Median (Q1,Q3)\"       \"120 (60, 360)\"      \"135 (80, 420)\"\n",
      "26                    \"dose, n (%)\"                    \"\"                   \"\"\n",
      "27                            \"  5\"               \"2 (1)\"              \"0 (0)\"\n",
      "28                          \"  7.5\"              \"25 (8)\"              \"3 (4)\"\n",
      "29                           \"  10\"            \"112 (37)\"            \"31 (42)\"\n",
      "30                           \"  15\"              \"23 (8)\"             \"8 (11)\"\n",
      "31                           \"  20\"               \"3 (1)\"              \"0 (0)\"\n",
      "32                           \"  30\"               \"5 (2)\"              \"0 (0)\"\n",
      "33                           \"  40\"               \"3 (1)\"              \"1 (1)\"\n",
      "34                           \"  50\"               \"1 (0)\"              \"0 (0)\"\n",
      "35                           \"  60\"            \"126 (42)\"            \"30 (41)\"\n",
      "36                 \"doseday, n (%)\"                    \"\"                   \"\"\n",
      "37                            \"  3\"               \"4 (1)\"              \"1 (1)\"\n",
      "38                            \"  4\"             \"39 (13)\"              \"2 (3)\"\n",
      "39                            \"  5\"             \"61 (20)\"              \"6 (8)\"\n",
      "40                            \"  6\"             \"75 (25)\"              \"4 (5)\"\n",
      "41                            \"  7\"             \"58 (19)\"            \"16 (22)\"\n",
      "42                            \"  8\"             \"32 (11)\"            \"20 (27)\"\n",
      "43                            \"  9\"              \"17 (6)\"            \"13 (18)\"\n",
      "44                           \"  10\"              \"12 (4)\"             \"9 (12)\"\n",
      "45                           \"  11\"               \"1 (0)\"              \"1 (1)\"\n",
      "46                           \"  13\"               \"1 (0)\"              \"1 (1)\"\n",
      "47        \"los_hos, Median (Q1,Q3)\"            \"6 (5, 7)\"           \"8 (7, 9)\"\n",
      "48             \"PT, Median (Q1,Q3)\"      \"-0.3 (-1, 0.2)\"   \"-0.1 (-1.1, 0.4)\"\n",
      "49           \"APTT, Median (Q1,Q3)\"  \"-1.8 (-3.52, -0.1)\"     \"-1 (-3.1, 0.1)\"\n",
      "50            \"fib, Median (Q1,Q3)\"     \"0 (-0.34, 0.39)\"     \"0 (-0.4, 0.48)\"\n",
      "51             \"DD, Median (Q1,Q3)\"  \"0.06 (-0.33, 0.45)\" \"0.08 (-0.23, 0.42)\"\n",
      "52            \"PLT, Median (Q1,Q3)\"     \"-2 (-21.25, 18)\"       \"-2 (-16, 26)\"\n",
      "53             \"CK, Median (Q1,Q3)\"    \"-22 (-86.25, 58)\"       \"-5 (-79, 93)\"\n",
      "54           \"CKMB, Median (Q1,Q3)\" \"-5.45 (-11.6, 0.83)\"     \"-5.6 (-9.9, 0)\"\n",
      "55             \"Tn, Median (Q1,Q3)\"        \"0 (-0.01, 0)\"       \"0 (-0.01, 0)\"\n",
      "                                 \n",
      "1         \"1 (n = 227)\"       \"p\"\n",
      "2                    \"\"   \"0.183\"\n",
      "3               \"8 (4)\"       \" \"\n",
      "4            \"137 (60)\"       \" \"\n",
      "5             \"32 (14)\"       \" \"\n",
      "6             \"50 (22)\"       \" \"\n",
      "7     \"1.65 (1.6, 1.7)\"   \"0.661\"\n",
      "8        \"22.61 ± 3.49\"   \"0.696\"\n",
      "9       \"35 (22, 57.5)\"   \"0.031\"\n",
      "10      \"22 (16, 33.5)\"   \"0.134\"\n",
      "11        \"26 (21, 40)\"   \"0.255\"\n",
      "12                   \"\"   \"0.518\"\n",
      "13           \"206 (91)\"       \" \"\n",
      "14             \"20 (9)\"       \" \"\n",
      "15                   \"\"   \"0.418\"\n",
      "16           \"161 (71)\"       \" \"\n",
      "17            \"47 (21)\"       \" \"\n",
      "18             \"11 (5)\"       \" \"\n",
      "19              \"1 (0)\"       \" \"\n",
      "20              \"7 (3)\"       \" \"\n",
      "21                   \"\"   \"0.281\"\n",
      "22           \"118 (52)\"       \" \"\n",
      "23            \"95 (42)\"       \" \"\n",
      "24             \"14 (6)\"       \" \"\n",
      "25    \"100 (52.5, 360)\" \"< 0.001\"\n",
      "26                   \"\"   \"0.513\"\n",
      "27              \"2 (1)\"       \" \"\n",
      "28            \"22 (10)\"       \" \"\n",
      "29            \"81 (36)\"       \" \"\n",
      "30             \"15 (7)\"       \" \"\n",
      "31              \"3 (1)\"       \" \"\n",
      "32              \"5 (2)\"       \" \"\n",
      "33              \"2 (1)\"       \" \"\n",
      "34              \"1 (0)\"       \" \"\n",
      "35            \"96 (42)\"       \" \"\n",
      "36                   \"\" \"< 0.001\"\n",
      "37              \"3 (1)\"       \" \"\n",
      "38            \"37 (16)\"       \" \"\n",
      "39            \"55 (24)\"       \" \"\n",
      "40            \"71 (31)\"       \" \"\n",
      "41            \"42 (19)\"       \" \"\n",
      "42             \"12 (5)\"       \" \"\n",
      "43              \"4 (2)\"       \" \"\n",
      "44              \"3 (1)\"       \" \"\n",
      "45              \"0 (0)\"       \" \"\n",
      "46              \"0 (0)\"       \" \"\n",
      "47           \"6 (5, 7)\" \"< 0.001\"\n",
      "48 \"-0.3 (-0.95, 0.15)\"   \"0.221\"\n",
      "49   \"-2 (-3.65, -0.1)\"   \"0.052\"\n",
      "50 \"0.04 (-0.34, 0.38)\"    \"0.88\"\n",
      "51  \"0.06 (-0.4, 0.47)\"   \"0.508\"\n",
      "52       \"-2 (-22, 18)\"   \"0.337\"\n",
      "53      \"-25 (-90, 55)\"   \"0.264\"\n",
      "54 \"-5.4 (-12.7, 1.25)\"   \"0.973\"\n",
      "55       \"0 (-0.01, 0)\"   \"0.793\"\n"
     ]
    }
   ],
   "source": [
    "# add workspace\n",
    "subgroup2 <- multigrps(subgroup2, gvar = \"TCM\", workspace = 5e8) \n",
    "print(subgroup2, quote = T)\n"
   ]
  },
  {
   "cell_type": "code",
   "execution_count": 34,
   "metadata": {
    "vscode": {
     "languageId": "r"
    }
   },
   "outputs": [],
   "source": [
    "write.csv(subgroup2, file = file.path(data_dir, \"subgroup2.csv\"), fileEncoding = \"GBK\", row.names = FALSE)\n"
   ]
  },
  {
   "cell_type": "code",
   "execution_count": 35,
   "metadata": {
    "vscode": {
     "languageId": "r"
    }
   },
   "outputs": [],
   "source": [
    "subgroup3 <- as.data.frame(readxl::read_excel(file.path(data_dir, \"subgroup3.xlsx\")))"
   ]
  },
  {
   "cell_type": "code",
   "execution_count": 36,
   "metadata": {
    "vscode": {
     "languageId": "r"
    }
   },
   "outputs": [
    {
     "name": "stdout",
     "output_type": "stream",
     "text": [
      "                                                           \n",
      "1                       \"Variables\"       \"Total (n = 300)\"\n",
      "2         \"stay_id, Median (Q1,Q3)\" \"150.5 (75.75, 225.25)\"\n",
      "3                    \"serum, n (%)\"                      \"\"\n",
      "4                             \"  0\"                \"10 (3)\"\n",
      "5                             \"  1\"              \"181 (60)\"\n",
      "6                             \"  2\"               \"49 (16)\"\n",
      "7                             \"  3\"               \"60 (20)\"\n",
      "8           \"hight, Median (Q1,Q3)\"       \"1.65 (1.6, 1.7)\"\n",
      "9                  \"IBM, Mean ± SD\"          \"22.65 ± 3.38\"\n",
      "10            \"ALT, Median (Q1,Q3)\"        \"36 (23, 63.25)\"\n",
      "11            \"AST, Median (Q1,Q3)\"           \"23 (16, 35)\"\n",
      "12           \"AST1, Median (Q1,Q3)\"           \"26 (21, 39)\"\n",
      "13                     \"AKI, n (%)\"                      \"\"\n",
      "14                            \"  0\"              \"270 (90)\"\n",
      "15                            \"  1\"               \"29 (10)\"\n",
      "16            \"complication, n (%)\"                      \"\"\n",
      "17                            \"  0\"              \"206 (69)\"\n",
      "18                            \"  1\"               \"70 (23)\"\n",
      "19                            \"  2\"                \"14 (5)\"\n",
      "20                            \"  3\"                 \"1 (0)\"\n",
      "21                            \"  4\"                 \"9 (3)\"\n",
      "22                     \"GCs, n (%)\"                      \"\"\n",
      "23                            \"  1\"              \"159 (53)\"\n",
      "24                            \"  2\"              \"126 (42)\"\n",
      "25                            \"  3\"                \"15 (5)\"\n",
      "26 \"Accumulatedose, Median (Q1,Q3)\"         \"120 (60, 360)\"\n",
      "27                    \"dose, n (%)\"                      \"\"\n",
      "28                            \"  5\"                 \"2 (1)\"\n",
      "29                          \"  7.5\"                \"25 (8)\"\n",
      "30                           \"  10\"              \"112 (37)\"\n",
      "31                           \"  15\"                \"23 (8)\"\n",
      "32                           \"  20\"                 \"3 (1)\"\n",
      "33                           \"  30\"                 \"5 (2)\"\n",
      "34                           \"  40\"                 \"3 (1)\"\n",
      "35                           \"  50\"                 \"1 (0)\"\n",
      "36                           \"  60\"              \"126 (42)\"\n",
      "37                 \"doseday, n (%)\"                      \"\"\n",
      "38                            \"  3\"                 \"4 (1)\"\n",
      "39                            \"  4\"               \"39 (13)\"\n",
      "40                            \"  5\"               \"61 (20)\"\n",
      "41                            \"  6\"               \"75 (25)\"\n",
      "42                            \"  7\"               \"58 (19)\"\n",
      "43                            \"  8\"               \"32 (11)\"\n",
      "44                            \"  9\"                \"17 (6)\"\n",
      "45                           \"  10\"                \"12 (4)\"\n",
      "46                           \"  11\"                 \"1 (0)\"\n",
      "47                           \"  13\"                 \"1 (0)\"\n",
      "48        \"los_hos, Median (Q1,Q3)\"              \"6 (5, 7)\"\n",
      "49             \"PT, Median (Q1,Q3)\"    \"-0.8 (-1.52, -0.2)\"\n",
      "50           \"APTT, Median (Q1,Q3)\"    \"-2.55 (-4.6, -0.8)\"\n",
      "51            \"fib, Median (Q1,Q3)\"   \"-0.19 (-0.63, 0.51)\"\n",
      "52             \"DD, Median (Q1,Q3)\"    \"0.08 (-0.55, 0.42)\"\n",
      "53            \"PLT, Median (Q1,Q3)\"     \"11.5 (-16, 46.75)\"\n",
      "54             \"CK, Median (Q1,Q3)\"   \"-89 (-198.5, -26.5)\"\n",
      "55           \"CKMB, Median (Q1,Q3)\"  \"-7.55 (-15.82, -3.3)\"\n",
      "56             \"Tn, Median (Q1,Q3)\"          \"0 (-0.01, 0)\"\n",
      "57                \"fib_flag, n (%)\"                      \"\"\n",
      "58                            \"  0\"              \"176 (59)\"\n",
      "59                            \"  1\"              \"124 (41)\"\n",
      "60                 \"gc_flag, n (%)\"                      \"\"\n",
      "61                            \"  0\"              \"129 (43)\"\n",
      "62                            \"  1\"              \"171 (57)\"\n",
      "63            \"los_hos_flag, n (%)\"                      \"\"\n",
      "64                            \"  0\"              \"207 (69)\"\n",
      "65                            \"  1\"               \"93 (31)\"\n",
      "                                                       \n",
      "1          \"0 (n = 73)\"         \"1 (n = 227)\"       \"p\"\n",
      "2       \"135 (74, 203)\"     \"157 (77.5, 229)\"   \"0.368\"\n",
      "3                    \"\"                    \"\"   \"0.183\"\n",
      "4               \"2 (3)\"               \"8 (4)\"       \" \"\n",
      "5             \"44 (60)\"            \"137 (60)\"       \" \"\n",
      "6             \"17 (23)\"             \"32 (14)\"       \" \"\n",
      "7             \"10 (14)\"             \"50 (22)\"       \" \"\n",
      "8     \"1.65 (1.6, 1.7)\"     \"1.65 (1.6, 1.7)\"   \"0.661\"\n",
      "9           \"22.78 ± 3\"        \"22.61 ± 3.49\"   \"0.696\"\n",
      "10        \"42 (25, 77)\"       \"35 (22, 57.5)\"   \"0.031\"\n",
      "11        \"25 (17, 37)\"       \"22 (16, 33.5)\"   \"0.134\"\n",
      "12        \"25 (20, 33)\"         \"26 (21, 40)\"   \"0.255\"\n",
      "13                   \"\"                    \"\"   \"0.518\"\n",
      "14            \"64 (88)\"            \"206 (91)\"       \" \"\n",
      "15             \"9 (12)\"              \"20 (9)\"       \" \"\n",
      "16                   \"\"                    \"\"   \"0.418\"\n",
      "17            \"45 (62)\"            \"161 (71)\"       \" \"\n",
      "18            \"23 (32)\"             \"47 (21)\"       \" \"\n",
      "19              \"3 (4)\"              \"11 (5)\"       \" \"\n",
      "20              \"0 (0)\"               \"1 (0)\"       \" \"\n",
      "21              \"2 (3)\"               \"7 (3)\"       \" \"\n",
      "22                   \"\"                    \"\"   \"0.281\"\n",
      "23            \"41 (56)\"            \"118 (52)\"       \" \"\n",
      "24            \"31 (42)\"             \"95 (42)\"       \" \"\n",
      "25              \"1 (1)\"              \"14 (6)\"       \" \"\n",
      "26      \"135 (80, 420)\"     \"100 (52.5, 360)\" \"< 0.001\"\n",
      "27                   \"\"                    \"\"   \"0.513\"\n",
      "28              \"0 (0)\"               \"2 (1)\"       \" \"\n",
      "29              \"3 (4)\"             \"22 (10)\"       \" \"\n",
      "30            \"31 (42)\"             \"81 (36)\"       \" \"\n",
      "31             \"8 (11)\"              \"15 (7)\"       \" \"\n",
      "32              \"0 (0)\"               \"3 (1)\"       \" \"\n",
      "33              \"0 (0)\"               \"5 (2)\"       \" \"\n",
      "34              \"1 (1)\"               \"2 (1)\"       \" \"\n",
      "35              \"0 (0)\"               \"1 (0)\"       \" \"\n",
      "36            \"30 (41)\"             \"96 (42)\"       \" \"\n",
      "37                   \"\"                    \"\" \"< 0.001\"\n",
      "38              \"1 (1)\"               \"3 (1)\"       \" \"\n",
      "39              \"2 (3)\"             \"37 (16)\"       \" \"\n",
      "40              \"6 (8)\"             \"55 (24)\"       \" \"\n",
      "41              \"4 (5)\"             \"71 (31)\"       \" \"\n",
      "42            \"16 (22)\"             \"42 (19)\"       \" \"\n",
      "43            \"20 (27)\"              \"12 (5)\"       \" \"\n",
      "44            \"13 (18)\"               \"4 (2)\"       \" \"\n",
      "45             \"9 (12)\"               \"3 (1)\"       \" \"\n",
      "46              \"1 (1)\"               \"0 (0)\"       \" \"\n",
      "47              \"1 (1)\"               \"0 (0)\"       \" \"\n",
      "48           \"8 (7, 9)\"            \"6 (5, 7)\" \"< 0.001\"\n",
      "49  \"-0.7 (-1.4, -0.2)\"   \"-0.8 (-1.6, -0.2)\"   \"0.975\"\n",
      "50  \"-2.3 (-4.2, -0.5)\" \"-2.7 (-4.65, -0.85)\"   \"0.227\"\n",
      "51 \"-0.37 (-0.8, 0.24)\" \"-0.12 (-0.57, 0.69)\"   \"0.033\"\n",
      "52 \"0.23 (-0.05, 0.59)\"   \"0.05 (-0.7, 0.32)\"   \"0.009\"\n",
      "53       \"19 (-15, 85)\"      \"10 (-16, 40.5)\"   \"0.185\"\n",
      "54    \"-83 (-200, -30)\" \"-96 (-197.5, -23.5)\"   \"0.846\"\n",
      "55 \"-7.7 (-12.5, -3.4)\" \"-7.5 (-16.05, -3.3)\"   \"0.897\"\n",
      "56       \"0 (-0.01, 0)\"        \"0 (-0.01, 0)\"     \"0.9\"\n",
      "57                   \"\"                    \"\"   \"0.202\"\n",
      "58            \"48 (66)\"            \"128 (56)\"       \" \"\n",
      "59            \"25 (34)\"             \"99 (44)\"       \" \"\n",
      "60                   \"\"                    \"\"   \"0.809\"\n",
      "61            \"30 (41)\"             \"99 (44)\"       \" \"\n",
      "62            \"43 (59)\"            \"128 (56)\"       \" \"\n",
      "63                   \"\"                    \"\" \"< 0.001\"\n",
      "64            \"67 (92)\"            \"140 (62)\"       \" \"\n",
      "65              \"6 (8)\"             \"87 (38)\"       \" \"\n"
     ]
    }
   ],
   "source": [
    "# add workspace\n",
    "subgroup3 <- multigrps(subgroup3, gvar = \"TCM\", workspace = 5e8) \n",
    "print(subgroup3, quote = T)\n"
   ]
  },
  {
   "cell_type": "code",
   "execution_count": 37,
   "metadata": {
    "vscode": {
     "languageId": "r"
    }
   },
   "outputs": [],
   "source": [
    "write.csv(subgroup3, file = file.path(data_dir, \"subgroup3.csv\"), fileEncoding = \"GBK\", row.names = FALSE)"
   ]
  },
  {
   "cell_type": "code",
   "execution_count": 38,
   "metadata": {
    "vscode": {
     "languageId": "r"
    }
   },
   "outputs": [],
   "source": [
    "library(tableone)\n",
    "library(tidyverse)"
   ]
  },
  {
   "cell_type": "code",
   "execution_count": 39,
   "metadata": {
    "vscode": {
     "languageId": "r"
    }
   },
   "outputs": [],
   "source": [
    "fml <- \"TCM ~ los_hos + serum + IBM + \n",
    "      AKI + GCs + PT + APTT +\n",
    "       fib + DD + PLT + CK + CKMB + Tn\"\n",
    "subgroup2 <- as.data.frame(readxl::read_excel(file.path(data_dir, \"subgroup2.xlsx\")))"
   ]
  },
  {
   "cell_type": "code",
   "execution_count": 40,
   "metadata": {
    "vscode": {
     "languageId": "r"
    }
   },
   "outputs": [],
   "source": [
    "unweighted <- glm(as.formula(fml), data = subgroup2, family = binomial, na.action = na.exclude)\n"
   ]
  },
  {
   "cell_type": "code",
   "execution_count": 41,
   "metadata": {
    "vscode": {
     "languageId": "r"
    }
   },
   "outputs": [
    {
     "data": {
      "text/plain": [
       "\n",
       "Call:\n",
       "glm(formula = as.formula(fml), family = binomial, data = subgroup2, \n",
       "    na.action = na.exclude)\n",
       "\n",
       "Coefficients:\n",
       "              Estimate Std. Error z value Pr(>|z|)    \n",
       "(Intercept)  7.4057832  1.6488620   4.491 7.07e-06 ***\n",
       "los_hos     -0.9236465  0.1295840  -7.128 1.02e-12 ***\n",
       "serum        0.0405586  0.2061297   0.197    0.844    \n",
       "IBM         -0.0116229  0.0530914  -0.219    0.827    \n",
       "AKI          0.4734466  0.6037267   0.784    0.433    \n",
       "GCs          0.1176638  0.2978486   0.395    0.693    \n",
       "PT          -0.0124996  0.0095470  -1.309    0.190    \n",
       "APTT         0.0064976  0.0085488   0.760    0.447    \n",
       "fib         -0.0260836  0.1058377  -0.246    0.805    \n",
       "DD           0.0069835  0.0121384   0.575    0.565    \n",
       "PLT         -0.0045171  0.0035396  -1.276    0.202    \n",
       "CK          -0.0001308  0.0001776  -0.737    0.461    \n",
       "CKMB        -0.0009629  0.0016381  -0.588    0.557    \n",
       "Tn          -7.9952123  3.2173586  -2.485    0.013 *  \n",
       "---\n",
       "Signif. codes:  0 '***' 0.001 '**' 0.01 '*' 0.05 '.' 0.1 ' ' 1\n",
       "\n",
       "(Dispersion parameter for binomial family taken to be 1)\n",
       "\n",
       "    Null deviance: 332.38  on 298  degrees of freedom\n",
       "Residual deviance: 235.88  on 285  degrees of freedom\n",
       "  (1 observation deleted due to missingness)\n",
       "AIC: 263.88\n",
       "\n",
       "Number of Fisher Scoring iterations: 5\n"
      ]
     },
     "metadata": {},
     "output_type": "display_data"
    }
   ],
   "source": [
    "summary(unweighted)"
   ]
  }
 ],
 "metadata": {
  "kernelspec": {
   "display_name": "R",
   "language": "R",
   "name": "ir"
  },
  "language_info": {
   "codemirror_mode": "r",
   "file_extension": ".r",
   "mimetype": "text/x-r-source",
   "name": "R",
   "pygments_lexer": "r",
   "version": "4.3.2"
  }
 },
 "nbformat": 4,
 "nbformat_minor": 2
}
