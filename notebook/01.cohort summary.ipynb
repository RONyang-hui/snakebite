{
 "cells": [
  {
   "cell_type": "code",
   "execution_count": 1,
   "metadata": {
    "vscode": {
     "languageId": "r"
    }
   },
   "outputs": [
    {
     "name": "stderr",
     "output_type": "stream",
     "text": [
      "Loading required package: nortest\n",
      "\n",
      "Warning message:\n",
      "\"package 'RPostgreSQL' was built under R version 4.3.3\"\n",
      "Loading required package: DBI\n",
      "\n",
      "Warning message:\n",
      "\"package 'twang' was built under R version 4.3.3\"\n",
      "Warning message in .recacheSubclasses(def@className, def, env):\n",
      "\"undefined subclass \"ndiMatrix\" of class \"replValueSp\"; definition not updated\"\n",
      "To reproduce results from prior versions of the twang package, please see the version=\"legacy\" option described in the documentation.\n",
      "\n",
      "Warning message:\n",
      "\"package 'Matching' was built under R version 4.3.3\"\n",
      "Loading required package: MASS\n",
      "\n",
      "## \n",
      "##  Matching (Version 4.10-14, Build Date: 2023-09-13)\n",
      "##  See https://www.jsekhon.com for additional documentation.\n",
      "##  Please cite software as:\n",
      "##   Jasjeet S. Sekhon. 2011. ``Multivariate and Propensity Score Matching\n",
      "##   Software with Automated Balance Optimization: The Matching package for R.''\n",
      "##   Journal of Statistical Software, 42(7): 1-52. \n",
      "##\n",
      "\n",
      "\n",
      "Warning message:\n",
      "\"package 'tidyverse' was built under R version 4.3.3\"\n",
      "Warning message:\n",
      "\"package 'readr' was built under R version 4.3.3\"\n",
      "Warning message:\n",
      "\"package 'forcats' was built under R version 4.3.3\"\n",
      "Warning message:\n",
      "\"package 'lubridate' was built under R version 4.3.3\"\n",
      "── \u001b[1mAttaching core tidyverse packages\u001b[22m ──────────────────────── tidyverse 2.0.0 ──\n",
      "\u001b[32m✔\u001b[39m \u001b[34mdplyr    \u001b[39m 1.1.4     \u001b[32m✔\u001b[39m \u001b[34mreadr    \u001b[39m 2.1.5\n",
      "\u001b[32m✔\u001b[39m \u001b[34mforcats  \u001b[39m 1.0.0     \u001b[32m✔\u001b[39m \u001b[34mstringr  \u001b[39m 1.5.1\n",
      "\u001b[32m✔\u001b[39m \u001b[34mggplot2  \u001b[39m 3.4.4     \u001b[32m✔\u001b[39m \u001b[34mtibble   \u001b[39m 3.2.1\n",
      "\u001b[32m✔\u001b[39m \u001b[34mlubridate\u001b[39m 1.9.3     \u001b[32m✔\u001b[39m \u001b[34mtidyr    \u001b[39m 1.3.1\n",
      "\u001b[32m✔\u001b[39m \u001b[34mpurrr    \u001b[39m 1.0.2     \n",
      "── \u001b[1mConflicts\u001b[22m ────────────────────────────────────────── tidyverse_conflicts() ──\n",
      "\u001b[31m✖\u001b[39m \u001b[34mdplyr\u001b[39m::\u001b[32mfilter()\u001b[39m masks \u001b[34mstats\u001b[39m::filter()\n",
      "\u001b[31m✖\u001b[39m \u001b[34mdplyr\u001b[39m::\u001b[32mlag()\u001b[39m    masks \u001b[34mstats\u001b[39m::lag()\n",
      "\u001b[31m✖\u001b[39m \u001b[34mdplyr\u001b[39m::\u001b[32mselect()\u001b[39m masks \u001b[34mMASS\u001b[39m::select()\n",
      "\u001b[36mℹ\u001b[39m Use the conflicted package (\u001b[3m\u001b[34m<http://conflicted.r-lib.org/>\u001b[39m\u001b[23m) to force all conflicts to become errors\n",
      "Warning message:\n",
      "\"package 'readxl' was built under R version 4.3.3\"\n",
      "Warning message:\n",
      "\"package 'tableone' was built under R version 4.3.3\"\n"
     ]
    }
   ],
   "source": [
    "library(CBCgrps)\n",
    "library(nortest)\n",
    "library(RPostgreSQL)\n",
    "library(twang)\n",
    "library(Matching)\n",
    "library(tidyverse)\n",
    "library(ggplot2)\n",
    "library(readxl)\n",
    "library(tableone)"
   ]
  },
  {
   "cell_type": "code",
   "execution_count": 2,
   "metadata": {
    "vscode": {
     "languageId": "r"
    }
   },
   "outputs": [],
   "source": [
    "data_dir <- file.path(\"..\", \"data\")\n"
   ]
  },
  {
   "cell_type": "code",
   "execution_count": 3,
   "metadata": {
    "vscode": {
     "languageId": "r"
    }
   },
   "outputs": [],
   "source": [
    "data <- read_excel(file.path(data_dir, \"baseline.xlsx\"))\n"
   ]
  },
  {
   "cell_type": "markdown",
   "metadata": {},
   "source": [
    "## The following is the baseline analysis comparison of the two groups."
   ]
  },
  {
   "cell_type": "code",
   "execution_count": 14,
   "metadata": {
    "vscode": {
     "languageId": "r"
    }
   },
   "outputs": [
    {
     "data": {
      "text/html": [
       "<style>\n",
       ".list-inline {list-style: none; margin:0; padding: 0}\n",
       ".list-inline>li {display: inline-block}\n",
       ".list-inline>li:not(:last-child)::after {content: \"\\00b7\"; padding: 0 .5ex}\n",
       "</style>\n",
       "<ol class=list-inline><li>'stay_id'</li><li>'los_hos'</li><li>'serum'</li><li>'TCM'</li><li>'gender'</li><li>'age'</li><li>'weight'</li><li>'hight'</li><li>'IBM'</li><li>'ALT'</li><li>'AST'</li><li>'AKI'</li><li>'complication'</li><li>'GCs'</li><li>'dose'</li><li>'PT'</li><li>'APTT'</li><li>'fib'</li><li>'DD'</li><li>'PLT'</li><li>'CK'</li><li>'CKMB'</li><li>'Tn'</li><li>'fib_flag'</li><li>'gc_flag'</li><li>'los_hos_flag'</li></ol>\n"
      ],
      "text/latex": [
       "\\begin{enumerate*}\n",
       "\\item 'stay\\_id'\n",
       "\\item 'los\\_hos'\n",
       "\\item 'serum'\n",
       "\\item 'TCM'\n",
       "\\item 'gender'\n",
       "\\item 'age'\n",
       "\\item 'weight'\n",
       "\\item 'hight'\n",
       "\\item 'IBM'\n",
       "\\item 'ALT'\n",
       "\\item 'AST'\n",
       "\\item 'AKI'\n",
       "\\item 'complication'\n",
       "\\item 'GCs'\n",
       "\\item 'dose'\n",
       "\\item 'PT'\n",
       "\\item 'APTT'\n",
       "\\item 'fib'\n",
       "\\item 'DD'\n",
       "\\item 'PLT'\n",
       "\\item 'CK'\n",
       "\\item 'CKMB'\n",
       "\\item 'Tn'\n",
       "\\item 'fib\\_flag'\n",
       "\\item 'gc\\_flag'\n",
       "\\item 'los\\_hos\\_flag'\n",
       "\\end{enumerate*}\n"
      ],
      "text/markdown": [
       "1. 'stay_id'\n",
       "2. 'los_hos'\n",
       "3. 'serum'\n",
       "4. 'TCM'\n",
       "5. 'gender'\n",
       "6. 'age'\n",
       "7. 'weight'\n",
       "8. 'hight'\n",
       "9. 'IBM'\n",
       "10. 'ALT'\n",
       "11. 'AST'\n",
       "12. 'AKI'\n",
       "13. 'complication'\n",
       "14. 'GCs'\n",
       "15. 'dose'\n",
       "16. 'PT'\n",
       "17. 'APTT'\n",
       "18. 'fib'\n",
       "19. 'DD'\n",
       "20. 'PLT'\n",
       "21. 'CK'\n",
       "22. 'CKMB'\n",
       "23. 'Tn'\n",
       "24. 'fib_flag'\n",
       "25. 'gc_flag'\n",
       "26. 'los_hos_flag'\n",
       "\n",
       "\n"
      ],
      "text/plain": [
       " [1] \"stay_id\"      \"los_hos\"      \"serum\"        \"TCM\"          \"gender\"      \n",
       " [6] \"age\"          \"weight\"       \"hight\"        \"IBM\"          \"ALT\"         \n",
       "[11] \"AST\"          \"AKI\"          \"complication\" \"GCs\"          \"dose\"        \n",
       "[16] \"PT\"           \"APTT\"         \"fib\"          \"DD\"           \"PLT\"         \n",
       "[21] \"CK\"           \"CKMB\"         \"Tn\"           \"fib_flag\"     \"gc_flag\"     \n",
       "[26] \"los_hos_flag\""
      ]
     },
     "metadata": {},
     "output_type": "display_data"
    }
   ],
   "source": [
    "colnames(data)"
   ]
  },
  {
   "cell_type": "code",
   "execution_count": 15,
   "metadata": {
    "vscode": {
     "languageId": "r"
    }
   },
   "outputs": [],
   "source": [
    "# Rename the 'CK-MB' column to 'CK_MB'\n",
    "names(data)[names(data) == 'CK-MB'] <- 'CK_MB'\n",
    "\n",
    "features <- c(\"los_hos\", \"serum\", \"TCM\", \"gender\", \"age\", \"weight\", \"hight\", \"IBM\", \n",
    "              \"ALT\", \"AST\", \"AKI\", \"complication\", \"GCs\", \"dose\", \"PT\", \"APTT\",\n",
    "              \"fib\", \"DD\", \"PLT\", \"CK\", \"CKMB\", \"Tn\")"
   ]
  },
  {
   "cell_type": "code",
   "execution_count": 9,
   "metadata": {
    "vscode": {
     "languageId": "r"
    }
   },
   "outputs": [
    {
     "name": "stderr",
     "output_type": "stream",
     "text": [
      "Warning message:\n",
      "\"\u001b[1m\u001b[22mUsing an external vector in selections was deprecated in tidyselect 1.1.0.\n",
      "\u001b[36mℹ\u001b[39m Please use `all_of()` or `any_of()` instead.\n",
      "  # Was:\n",
      "  data %>% select(features)\n",
      "\n",
      "  # Now:\n",
      "  data %>% select(all_of(features))\n",
      "\n",
      "See <https://tidyselect.r-lib.org/reference/faq-external-vector.html>.\"\n",
      "Warning message:\n",
      "\"\u001b[1m\u001b[22m`funs()` was deprecated in dplyr 0.8.0.\n",
      "\u001b[36mℹ\u001b[39m Please use a list of either functions or lambdas:\n",
      "\n",
      "# Simple named list: list(mean = mean, median = median)\n",
      "\n",
      "# Auto named with `tibble::lst()`: tibble::lst(mean, median)\n",
      "\n",
      "# Using lambdas list(~ mean(., trim = .2), ~ median(., na.rm = TRUE))\"\n"
     ]
    },
    {
     "data": {
      "text/html": [
       "<table class=\"dataframe\">\n",
       "<caption>A tibble: 22 × 2</caption>\n",
       "<thead>\n",
       "\t<tr><th scope=col>cov</th><th scope=col>na</th></tr>\n",
       "\t<tr><th scope=col>&lt;chr&gt;</th><th scope=col>&lt;chr&gt;</th></tr>\n",
       "</thead>\n",
       "<tbody>\n",
       "\t<tr><td>los_hos     </td><td>0%  </td></tr>\n",
       "\t<tr><td>serum       </td><td>0%  </td></tr>\n",
       "\t<tr><td>TCM         </td><td>0%  </td></tr>\n",
       "\t<tr><td>gender      </td><td>0%  </td></tr>\n",
       "\t<tr><td>age         </td><td>0%  </td></tr>\n",
       "\t<tr><td>weight      </td><td>0%  </td></tr>\n",
       "\t<tr><td>hight       </td><td>0%  </td></tr>\n",
       "\t<tr><td>IBM         </td><td>0%  </td></tr>\n",
       "\t<tr><td>ALT         </td><td>0%  </td></tr>\n",
       "\t<tr><td>AST         </td><td>0%  </td></tr>\n",
       "\t<tr><td>AKI         </td><td>0.3%</td></tr>\n",
       "\t<tr><td>complication</td><td>0%  </td></tr>\n",
       "\t<tr><td>GCs         </td><td>0%  </td></tr>\n",
       "\t<tr><td>dose        </td><td>0%  </td></tr>\n",
       "\t<tr><td>PT          </td><td>0%  </td></tr>\n",
       "\t<tr><td>APTT        </td><td>0%  </td></tr>\n",
       "\t<tr><td>fib         </td><td>0%  </td></tr>\n",
       "\t<tr><td>DD          </td><td>0%  </td></tr>\n",
       "\t<tr><td>PLT         </td><td>0%  </td></tr>\n",
       "\t<tr><td>CK          </td><td>0%  </td></tr>\n",
       "\t<tr><td>CKMB        </td><td>0%  </td></tr>\n",
       "\t<tr><td>Tn          </td><td>0%  </td></tr>\n",
       "</tbody>\n",
       "</table>\n"
      ],
      "text/latex": [
       "A tibble: 22 × 2\n",
       "\\begin{tabular}{ll}\n",
       " cov & na\\\\\n",
       " <chr> & <chr>\\\\\n",
       "\\hline\n",
       "\t los\\_hos      & 0\\%  \\\\\n",
       "\t serum        & 0\\%  \\\\\n",
       "\t TCM          & 0\\%  \\\\\n",
       "\t gender       & 0\\%  \\\\\n",
       "\t age          & 0\\%  \\\\\n",
       "\t weight       & 0\\%  \\\\\n",
       "\t hight        & 0\\%  \\\\\n",
       "\t IBM          & 0\\%  \\\\\n",
       "\t ALT          & 0\\%  \\\\\n",
       "\t AST          & 0\\%  \\\\\n",
       "\t AKI          & 0.3\\%\\\\\n",
       "\t complication & 0\\%  \\\\\n",
       "\t GCs          & 0\\%  \\\\\n",
       "\t dose         & 0\\%  \\\\\n",
       "\t PT           & 0\\%  \\\\\n",
       "\t APTT         & 0\\%  \\\\\n",
       "\t fib          & 0\\%  \\\\\n",
       "\t DD           & 0\\%  \\\\\n",
       "\t PLT          & 0\\%  \\\\\n",
       "\t CK           & 0\\%  \\\\\n",
       "\t CKMB         & 0\\%  \\\\\n",
       "\t Tn           & 0\\%  \\\\\n",
       "\\end{tabular}\n"
      ],
      "text/markdown": [
       "\n",
       "A tibble: 22 × 2\n",
       "\n",
       "| cov &lt;chr&gt; | na &lt;chr&gt; |\n",
       "|---|---|\n",
       "| los_hos      | 0%   |\n",
       "| serum        | 0%   |\n",
       "| TCM          | 0%   |\n",
       "| gender       | 0%   |\n",
       "| age          | 0%   |\n",
       "| weight       | 0%   |\n",
       "| hight        | 0%   |\n",
       "| IBM          | 0%   |\n",
       "| ALT          | 0%   |\n",
       "| AST          | 0%   |\n",
       "| AKI          | 0.3% |\n",
       "| complication | 0%   |\n",
       "| GCs          | 0%   |\n",
       "| dose         | 0%   |\n",
       "| PT           | 0%   |\n",
       "| APTT         | 0%   |\n",
       "| fib          | 0%   |\n",
       "| DD           | 0%   |\n",
       "| PLT          | 0%   |\n",
       "| CK           | 0%   |\n",
       "| CKMB         | 0%   |\n",
       "| Tn           | 0%   |\n",
       "\n"
      ],
      "text/plain": [
       "   cov          na  \n",
       "1  los_hos      0%  \n",
       "2  serum        0%  \n",
       "3  TCM          0%  \n",
       "4  gender       0%  \n",
       "5  age          0%  \n",
       "6  weight       0%  \n",
       "7  hight        0%  \n",
       "8  IBM          0%  \n",
       "9  ALT          0%  \n",
       "10 AST          0%  \n",
       "11 AKI          0.3%\n",
       "12 complication 0%  \n",
       "13 GCs          0%  \n",
       "14 dose         0%  \n",
       "15 PT           0%  \n",
       "16 APTT         0%  \n",
       "17 fib          0%  \n",
       "18 DD           0%  \n",
       "19 PLT          0%  \n",
       "20 CK           0%  \n",
       "21 CKMB         0%  \n",
       "22 Tn           0%  "
      ]
     },
     "metadata": {},
     "output_type": "display_data"
    }
   ],
   "source": [
    "missing <- data %>%\n",
    "dplyr::select(features) %>%\n",
    "summarise_all(funs(sum(is.na(.)) / length(.) * 100)) %>%\n",
    "gather(\"cov\", \"na\") %>%\n",
    "mutate(na = paste0(round(na, 1), \"%\"))\n",
    "\n",
    "missing"
   ]
  }
 ],
 "metadata": {
  "kernelspec": {
   "display_name": "R",
   "language": "R",
   "name": "ir"
  },
  "language_info": {
   "codemirror_mode": "r",
   "file_extension": ".r",
   "mimetype": "text/x-r-source",
   "name": "R",
   "pygments_lexer": "r",
   "version": "4.3.2"
  }
 },
 "nbformat": 4,
 "nbformat_minor": 2
}
